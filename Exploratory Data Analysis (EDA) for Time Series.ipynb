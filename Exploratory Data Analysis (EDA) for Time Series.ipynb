{
 "cells": [
  {
   "cell_type": "markdown",
   "id": "437fdd3e",
   "metadata": {},
   "source": [
    "# <h1 align=\"center\"><font color=\"red\">Exploratory Data Analysis (EDA) for Time Series: Electricity Consumption</font></h1>"
   ]
  },
  {
   "cell_type": "markdown",
   "id": "761763e1",
   "metadata": {},
   "source": [
    "<font color=\"pink\">Senior Data Scientist.: Dr. Eddy Giusepe Chirinos Isidro</font>"
   ]
  },
  {
   "cell_type": "markdown",
   "id": "b76925fa",
   "metadata": {},
   "source": [
    "![](https://storage.googleapis.com/kaggle-datasets-images/3021996/5196931/365ecab72e48aef3392086038412df87/dataset-cover.jpg?t=2023-03-19-23-43-44)"
   ]
  },
  {
   "cell_type": "markdown",
   "id": "92f6c52c",
   "metadata": {},
   "source": [
    "Link do dataset:\n",
    "\n",
    "* [Hourly Electricity Consumption and Production](https://www.kaggle.com/datasets/stefancomanita/hourly-electricity-consumption-and-production)\n",
    "\n",
    "\n",
    "Ver também:\n",
    "\n",
    "* [⚡Forecasting Electricity by Hour:RNN vs LSTM🔌💡](https://www.kaggle.com/code/marianadeem755/forecasting-electricity-by-hour-rnn-vs-lstm)"
   ]
  },
  {
   "cell_type": "markdown",
   "id": "8b9f3a69",
   "metadata": {},
   "source": [
    "`Sobre o conjunto de dados`\n",
    "\n",
    "\n",
    "Séries temporais horárias de consumo e produção de eletricidade (com tipo de produção) na `Romênia`.\n",
    "\n",
    "Atualizado em `02` de abril de `2024`.\n",
    "\n",
    "Inclui o consumo e a produção por hora, e a produção é dividida em uma das categorias: Nuclear, Eólica, Hidrelétrica, Petróleo e Gás, Carvão, Solar, Biomassa.\n",
    "\n",
    "Acho que esse é um bom conjunto de dados, pois a Romênia inclui um amplo espectro de produções de eletricidade, incluindo bastante energia solar e eólica, mas também nuclear!\n",
    "\n",
    "É um conjunto de dados bem grande, de mais de 5 anos!\n",
    "\n",
    "Quando a produção é maior que o consumo significa que estamos exportando eletricidade, quando o valor é menor significa que estamos importando eletricidade.\n",
    "\n",
    "Todos os valores estão em `MWs`."
   ]
  },
  {
   "cell_type": "code",
   "execution_count": 1,
   "id": "b9a390c0",
   "metadata": {
    "execution": {
     "iopub.execute_input": "2024-08-22T11:36:20.261606Z",
     "iopub.status.busy": "2024-08-22T11:36:20.260944Z",
     "iopub.status.idle": "2024-08-22T11:36:22.401783Z",
     "shell.execute_reply": "2024-08-22T11:36:22.400839Z"
    },
    "papermill": {
     "duration": 2.171946,
     "end_time": "2024-08-22T11:36:22.404555",
     "exception": false,
     "start_time": "2024-08-22T11:36:20.232609",
     "status": "completed"
    },
    "tags": []
   },
   "outputs": [],
   "source": [
    "import pandas as pd \n",
    "import numpy as np \n",
    "import seaborn as sns\n",
    "import matplotlib.pyplot as plt \n",
    "%matplotlib inline \n",
    "\n",
    "import warnings \n",
    "warnings.filterwarnings(\"ignore\")"
   ]
  },
  {
   "cell_type": "code",
   "execution_count": 2,
   "id": "d3bc40bb",
   "metadata": {
    "execution": {
     "iopub.execute_input": "2024-08-22T11:36:22.467894Z",
     "iopub.status.busy": "2024-08-22T11:36:22.467234Z",
     "iopub.status.idle": "2024-08-22T11:36:22.759016Z",
     "shell.execute_reply": "2024-08-22T11:36:22.758034Z"
    },
    "papermill": {
     "duration": 0.323888,
     "end_time": "2024-08-22T11:36:22.761298",
     "exception": false,
     "start_time": "2024-08-22T11:36:22.437410",
     "status": "completed"
    },
    "tags": []
   },
   "outputs": [
    {
     "data": {
      "text/html": [
       "<style type=\"text/css\">\n",
       "#T_9e970_row0_col0, #T_9e970_row0_col1, #T_9e970_row0_col2, #T_9e970_row0_col3, #T_9e970_row0_col4, #T_9e970_row0_col5, #T_9e970_row0_col6, #T_9e970_row0_col7, #T_9e970_row0_col8, #T_9e970_row0_col9, #T_9e970_row1_col0, #T_9e970_row1_col1, #T_9e970_row1_col2, #T_9e970_row1_col3, #T_9e970_row1_col4, #T_9e970_row1_col5, #T_9e970_row1_col6, #T_9e970_row1_col7, #T_9e970_row1_col8, #T_9e970_row1_col9, #T_9e970_row2_col0, #T_9e970_row2_col1, #T_9e970_row2_col2, #T_9e970_row2_col3, #T_9e970_row2_col4, #T_9e970_row2_col5, #T_9e970_row2_col6, #T_9e970_row2_col7, #T_9e970_row2_col8, #T_9e970_row2_col9, #T_9e970_row3_col0, #T_9e970_row3_col1, #T_9e970_row3_col2, #T_9e970_row3_col3, #T_9e970_row3_col4, #T_9e970_row3_col5, #T_9e970_row3_col6, #T_9e970_row3_col7, #T_9e970_row3_col8, #T_9e970_row3_col9, #T_9e970_row4_col0, #T_9e970_row4_col1, #T_9e970_row4_col2, #T_9e970_row4_col3, #T_9e970_row4_col4, #T_9e970_row4_col5, #T_9e970_row4_col6, #T_9e970_row4_col7, #T_9e970_row4_col8, #T_9e970_row4_col9 {\n",
       "  background-color: OliveDrab;\n",
       "  color: white;\n",
       "  border-color: darkblack;\n",
       "}\n",
       "</style>\n",
       "<table id=\"T_9e970\">\n",
       "  <thead>\n",
       "    <tr>\n",
       "      <th class=\"blank level0\" >&nbsp;</th>\n",
       "      <th id=\"T_9e970_level0_col0\" class=\"col_heading level0 col0\" >DateTime</th>\n",
       "      <th id=\"T_9e970_level0_col1\" class=\"col_heading level0 col1\" >Consumption</th>\n",
       "      <th id=\"T_9e970_level0_col2\" class=\"col_heading level0 col2\" >Production</th>\n",
       "      <th id=\"T_9e970_level0_col3\" class=\"col_heading level0 col3\" >Nuclear</th>\n",
       "      <th id=\"T_9e970_level0_col4\" class=\"col_heading level0 col4\" >Wind</th>\n",
       "      <th id=\"T_9e970_level0_col5\" class=\"col_heading level0 col5\" >Hydroelectric</th>\n",
       "      <th id=\"T_9e970_level0_col6\" class=\"col_heading level0 col6\" >Oil and Gas</th>\n",
       "      <th id=\"T_9e970_level0_col7\" class=\"col_heading level0 col7\" >Coal</th>\n",
       "      <th id=\"T_9e970_level0_col8\" class=\"col_heading level0 col8\" >Solar</th>\n",
       "      <th id=\"T_9e970_level0_col9\" class=\"col_heading level0 col9\" >Biomass</th>\n",
       "    </tr>\n",
       "  </thead>\n",
       "  <tbody>\n",
       "    <tr>\n",
       "      <th id=\"T_9e970_level0_row0\" class=\"row_heading level0 row0\" >0</th>\n",
       "      <td id=\"T_9e970_row0_col0\" class=\"data row0 col0\" >2019-01-01 00:00:00</td>\n",
       "      <td id=\"T_9e970_row0_col1\" class=\"data row0 col1\" >6352</td>\n",
       "      <td id=\"T_9e970_row0_col2\" class=\"data row0 col2\" >6527</td>\n",
       "      <td id=\"T_9e970_row0_col3\" class=\"data row0 col3\" >1395</td>\n",
       "      <td id=\"T_9e970_row0_col4\" class=\"data row0 col4\" >79</td>\n",
       "      <td id=\"T_9e970_row0_col5\" class=\"data row0 col5\" >1383</td>\n",
       "      <td id=\"T_9e970_row0_col6\" class=\"data row0 col6\" >1896</td>\n",
       "      <td id=\"T_9e970_row0_col7\" class=\"data row0 col7\" >1744</td>\n",
       "      <td id=\"T_9e970_row0_col8\" class=\"data row0 col8\" >0</td>\n",
       "      <td id=\"T_9e970_row0_col9\" class=\"data row0 col9\" >30</td>\n",
       "    </tr>\n",
       "    <tr>\n",
       "      <th id=\"T_9e970_level0_row1\" class=\"row_heading level0 row1\" >1</th>\n",
       "      <td id=\"T_9e970_row1_col0\" class=\"data row1 col0\" >2019-01-01 01:00:00</td>\n",
       "      <td id=\"T_9e970_row1_col1\" class=\"data row1 col1\" >6116</td>\n",
       "      <td id=\"T_9e970_row1_col2\" class=\"data row1 col2\" >5701</td>\n",
       "      <td id=\"T_9e970_row1_col3\" class=\"data row1 col3\" >1393</td>\n",
       "      <td id=\"T_9e970_row1_col4\" class=\"data row1 col4\" >96</td>\n",
       "      <td id=\"T_9e970_row1_col5\" class=\"data row1 col5\" >1112</td>\n",
       "      <td id=\"T_9e970_row1_col6\" class=\"data row1 col6\" >1429</td>\n",
       "      <td id=\"T_9e970_row1_col7\" class=\"data row1 col7\" >1641</td>\n",
       "      <td id=\"T_9e970_row1_col8\" class=\"data row1 col8\" >0</td>\n",
       "      <td id=\"T_9e970_row1_col9\" class=\"data row1 col9\" >30</td>\n",
       "    </tr>\n",
       "    <tr>\n",
       "      <th id=\"T_9e970_level0_row2\" class=\"row_heading level0 row2\" >2</th>\n",
       "      <td id=\"T_9e970_row2_col0\" class=\"data row2 col0\" >2019-01-01 02:00:00</td>\n",
       "      <td id=\"T_9e970_row2_col1\" class=\"data row2 col1\" >5873</td>\n",
       "      <td id=\"T_9e970_row2_col2\" class=\"data row2 col2\" >5676</td>\n",
       "      <td id=\"T_9e970_row2_col3\" class=\"data row2 col3\" >1393</td>\n",
       "      <td id=\"T_9e970_row2_col4\" class=\"data row2 col4\" >142</td>\n",
       "      <td id=\"T_9e970_row2_col5\" class=\"data row2 col5\" >1030</td>\n",
       "      <td id=\"T_9e970_row2_col6\" class=\"data row2 col6\" >1465</td>\n",
       "      <td id=\"T_9e970_row2_col7\" class=\"data row2 col7\" >1616</td>\n",
       "      <td id=\"T_9e970_row2_col8\" class=\"data row2 col8\" >0</td>\n",
       "      <td id=\"T_9e970_row2_col9\" class=\"data row2 col9\" >30</td>\n",
       "    </tr>\n",
       "    <tr>\n",
       "      <th id=\"T_9e970_level0_row3\" class=\"row_heading level0 row3\" >3</th>\n",
       "      <td id=\"T_9e970_row3_col0\" class=\"data row3 col0\" >2019-01-01 03:00:00</td>\n",
       "      <td id=\"T_9e970_row3_col1\" class=\"data row3 col1\" >5682</td>\n",
       "      <td id=\"T_9e970_row3_col2\" class=\"data row3 col2\" >5603</td>\n",
       "      <td id=\"T_9e970_row3_col3\" class=\"data row3 col3\" >1397</td>\n",
       "      <td id=\"T_9e970_row3_col4\" class=\"data row3 col4\" >191</td>\n",
       "      <td id=\"T_9e970_row3_col5\" class=\"data row3 col5\" >972</td>\n",
       "      <td id=\"T_9e970_row3_col6\" class=\"data row3 col6\" >1455</td>\n",
       "      <td id=\"T_9e970_row3_col7\" class=\"data row3 col7\" >1558</td>\n",
       "      <td id=\"T_9e970_row3_col8\" class=\"data row3 col8\" >0</td>\n",
       "      <td id=\"T_9e970_row3_col9\" class=\"data row3 col9\" >30</td>\n",
       "    </tr>\n",
       "    <tr>\n",
       "      <th id=\"T_9e970_level0_row4\" class=\"row_heading level0 row4\" >4</th>\n",
       "      <td id=\"T_9e970_row4_col0\" class=\"data row4 col0\" >2019-01-01 04:00:00</td>\n",
       "      <td id=\"T_9e970_row4_col1\" class=\"data row4 col1\" >5557</td>\n",
       "      <td id=\"T_9e970_row4_col2\" class=\"data row4 col2\" >5454</td>\n",
       "      <td id=\"T_9e970_row4_col3\" class=\"data row4 col3\" >1393</td>\n",
       "      <td id=\"T_9e970_row4_col4\" class=\"data row4 col4\" >159</td>\n",
       "      <td id=\"T_9e970_row4_col5\" class=\"data row4 col5\" >960</td>\n",
       "      <td id=\"T_9e970_row4_col6\" class=\"data row4 col6\" >1454</td>\n",
       "      <td id=\"T_9e970_row4_col7\" class=\"data row4 col7\" >1458</td>\n",
       "      <td id=\"T_9e970_row4_col8\" class=\"data row4 col8\" >0</td>\n",
       "      <td id=\"T_9e970_row4_col9\" class=\"data row4 col9\" >30</td>\n",
       "    </tr>\n",
       "  </tbody>\n",
       "</table>\n"
      ],
      "text/plain": [
       "<pandas.io.formats.style.Styler at 0x72ca6c7ee2f0>"
      ]
     },
     "execution_count": 2,
     "metadata": {},
     "output_type": "execute_result"
    }
   ],
   "source": [
    "df = pd.read_csv(\"./Electricity.csv\")\n",
    "df.head().style.set_properties(\n",
    "    **{\n",
    "        'background-color': 'OliveDrab',\n",
    "        'color': 'white',\n",
    "        'border-color': 'darkblack'\n",
    "    })"
   ]
  },
  {
   "cell_type": "code",
   "execution_count": 3,
   "id": "d00f9c46",
   "metadata": {},
   "outputs": [
    {
     "data": {
      "text/plain": [
       "(46011, 10)"
      ]
     },
     "execution_count": 3,
     "metadata": {},
     "output_type": "execute_result"
    }
   ],
   "source": [
    "df.shape"
   ]
  },
  {
   "cell_type": "code",
   "execution_count": 4,
   "id": "76d7a946",
   "metadata": {},
   "outputs": [
    {
     "name": "stdout",
     "output_type": "stream",
     "text": [
      "<class 'pandas.core.frame.DataFrame'>\n",
      "RangeIndex: 46011 entries, 0 to 46010\n",
      "Data columns (total 10 columns):\n",
      " #   Column         Non-Null Count  Dtype \n",
      "---  ------         --------------  ----- \n",
      " 0   DateTime       46011 non-null  object\n",
      " 1   Consumption    46011 non-null  int64 \n",
      " 2   Production     46011 non-null  int64 \n",
      " 3   Nuclear        46011 non-null  int64 \n",
      " 4   Wind           46011 non-null  int64 \n",
      " 5   Hydroelectric  46011 non-null  int64 \n",
      " 6   Oil and Gas    46011 non-null  int64 \n",
      " 7   Coal           46011 non-null  int64 \n",
      " 8   Solar          46011 non-null  int64 \n",
      " 9   Biomass        46011 non-null  int64 \n",
      "dtypes: int64(9), object(1)\n",
      "memory usage: 3.5+ MB\n"
     ]
    }
   ],
   "source": [
    "df.info()"
   ]
  },
  {
   "cell_type": "code",
   "execution_count": 5,
   "id": "7647a523",
   "metadata": {
    "execution": {
     "iopub.execute_input": "2024-08-22T11:36:22.816287Z",
     "iopub.status.busy": "2024-08-22T11:36:22.815934Z",
     "iopub.status.idle": "2024-08-22T11:36:22.839536Z",
     "shell.execute_reply": "2024-08-22T11:36:22.838693Z"
    },
    "papermill": {
     "duration": 0.053196,
     "end_time": "2024-08-22T11:36:22.841813",
     "exception": false,
     "start_time": "2024-08-22T11:36:22.788617",
     "status": "completed"
    },
    "tags": []
   },
   "outputs": [],
   "source": [
    "df['DateTime'] = pd.to_datetime(df['DateTime'])"
   ]
  },
  {
   "cell_type": "code",
   "execution_count": 6,
   "id": "191d2fcc",
   "metadata": {},
   "outputs": [
    {
     "data": {
      "text/html": [
       "<div>\n",
       "<style scoped>\n",
       "    .dataframe tbody tr th:only-of-type {\n",
       "        vertical-align: middle;\n",
       "    }\n",
       "\n",
       "    .dataframe tbody tr th {\n",
       "        vertical-align: top;\n",
       "    }\n",
       "\n",
       "    .dataframe thead th {\n",
       "        text-align: right;\n",
       "    }\n",
       "</style>\n",
       "<table border=\"1\" class=\"dataframe\">\n",
       "  <thead>\n",
       "    <tr style=\"text-align: right;\">\n",
       "      <th></th>\n",
       "      <th>DateTime</th>\n",
       "      <th>Consumption</th>\n",
       "      <th>Production</th>\n",
       "      <th>Nuclear</th>\n",
       "      <th>Wind</th>\n",
       "      <th>Hydroelectric</th>\n",
       "      <th>Oil and Gas</th>\n",
       "      <th>Coal</th>\n",
       "      <th>Solar</th>\n",
       "      <th>Biomass</th>\n",
       "    </tr>\n",
       "  </thead>\n",
       "  <tbody>\n",
       "    <tr>\n",
       "      <th>0</th>\n",
       "      <td>2019-01-01 00:00:00</td>\n",
       "      <td>6352</td>\n",
       "      <td>6527</td>\n",
       "      <td>1395</td>\n",
       "      <td>79</td>\n",
       "      <td>1383</td>\n",
       "      <td>1896</td>\n",
       "      <td>1744</td>\n",
       "      <td>0</td>\n",
       "      <td>30</td>\n",
       "    </tr>\n",
       "    <tr>\n",
       "      <th>1</th>\n",
       "      <td>2019-01-01 01:00:00</td>\n",
       "      <td>6116</td>\n",
       "      <td>5701</td>\n",
       "      <td>1393</td>\n",
       "      <td>96</td>\n",
       "      <td>1112</td>\n",
       "      <td>1429</td>\n",
       "      <td>1641</td>\n",
       "      <td>0</td>\n",
       "      <td>30</td>\n",
       "    </tr>\n",
       "    <tr>\n",
       "      <th>2</th>\n",
       "      <td>2019-01-01 02:00:00</td>\n",
       "      <td>5873</td>\n",
       "      <td>5676</td>\n",
       "      <td>1393</td>\n",
       "      <td>142</td>\n",
       "      <td>1030</td>\n",
       "      <td>1465</td>\n",
       "      <td>1616</td>\n",
       "      <td>0</td>\n",
       "      <td>30</td>\n",
       "    </tr>\n",
       "    <tr>\n",
       "      <th>3</th>\n",
       "      <td>2019-01-01 03:00:00</td>\n",
       "      <td>5682</td>\n",
       "      <td>5603</td>\n",
       "      <td>1397</td>\n",
       "      <td>191</td>\n",
       "      <td>972</td>\n",
       "      <td>1455</td>\n",
       "      <td>1558</td>\n",
       "      <td>0</td>\n",
       "      <td>30</td>\n",
       "    </tr>\n",
       "    <tr>\n",
       "      <th>4</th>\n",
       "      <td>2019-01-01 04:00:00</td>\n",
       "      <td>5557</td>\n",
       "      <td>5454</td>\n",
       "      <td>1393</td>\n",
       "      <td>159</td>\n",
       "      <td>960</td>\n",
       "      <td>1454</td>\n",
       "      <td>1458</td>\n",
       "      <td>0</td>\n",
       "      <td>30</td>\n",
       "    </tr>\n",
       "  </tbody>\n",
       "</table>\n",
       "</div>"
      ],
      "text/plain": [
       "             DateTime  Consumption  Production  Nuclear  Wind  Hydroelectric  \\\n",
       "0 2019-01-01 00:00:00         6352        6527     1395    79           1383   \n",
       "1 2019-01-01 01:00:00         6116        5701     1393    96           1112   \n",
       "2 2019-01-01 02:00:00         5873        5676     1393   142           1030   \n",
       "3 2019-01-01 03:00:00         5682        5603     1397   191            972   \n",
       "4 2019-01-01 04:00:00         5557        5454     1393   159            960   \n",
       "\n",
       "   Oil and Gas  Coal  Solar  Biomass  \n",
       "0         1896  1744      0       30  \n",
       "1         1429  1641      0       30  \n",
       "2         1465  1616      0       30  \n",
       "3         1455  1558      0       30  \n",
       "4         1454  1458      0       30  "
      ]
     },
     "execution_count": 6,
     "metadata": {},
     "output_type": "execute_result"
    }
   ],
   "source": [
    "df.head()"
   ]
  },
  {
   "cell_type": "code",
   "execution_count": 7,
   "id": "e9450913",
   "metadata": {},
   "outputs": [
    {
     "name": "stdout",
     "output_type": "stream",
     "text": [
      "<class 'pandas.core.frame.DataFrame'>\n",
      "RangeIndex: 46011 entries, 0 to 46010\n",
      "Data columns (total 10 columns):\n",
      " #   Column         Non-Null Count  Dtype         \n",
      "---  ------         --------------  -----         \n",
      " 0   DateTime       46011 non-null  datetime64[ns]\n",
      " 1   Consumption    46011 non-null  int64         \n",
      " 2   Production     46011 non-null  int64         \n",
      " 3   Nuclear        46011 non-null  int64         \n",
      " 4   Wind           46011 non-null  int64         \n",
      " 5   Hydroelectric  46011 non-null  int64         \n",
      " 6   Oil and Gas    46011 non-null  int64         \n",
      " 7   Coal           46011 non-null  int64         \n",
      " 8   Solar          46011 non-null  int64         \n",
      " 9   Biomass        46011 non-null  int64         \n",
      "dtypes: datetime64[ns](1), int64(9)\n",
      "memory usage: 3.5 MB\n"
     ]
    }
   ],
   "source": [
    "df.info()"
   ]
  },
  {
   "cell_type": "code",
   "execution_count": 8,
   "id": "805bd20d",
   "metadata": {
    "execution": {
     "iopub.execute_input": "2024-08-22T11:36:22.896207Z",
     "iopub.status.busy": "2024-08-22T11:36:22.895429Z",
     "iopub.status.idle": "2024-08-22T11:36:22.962304Z",
     "shell.execute_reply": "2024-08-22T11:36:22.961278Z"
    },
    "papermill": {
     "duration": 0.096032,
     "end_time": "2024-08-22T11:36:22.964397",
     "exception": false,
     "start_time": "2024-08-22T11:36:22.868365",
     "status": "completed"
    },
    "tags": []
   },
   "outputs": [
    {
     "data": {
      "text/html": [
       "<style type=\"text/css\">\n",
       "#T_9be08_row0_col1, #T_9be08_row0_col2, #T_9be08_row0_col3, #T_9be08_row0_col4, #T_9be08_row0_col5, #T_9be08_row0_col6, #T_9be08_row0_col7, #T_9be08_row0_col8, #T_9be08_row0_col9 {\n",
       "  background-color: #023858;\n",
       "  color: #f1f1f1;\n",
       "}\n",
       "#T_9be08_row1_col1, #T_9be08_row1_col2, #T_9be08_row4_col1, #T_9be08_row4_col2 {\n",
       "  background-color: #ede7f2;\n",
       "  color: #000000;\n",
       "}\n",
       "#T_9be08_row1_col3, #T_9be08_row1_col6, #T_9be08_row1_col7, #T_9be08_row4_col6 {\n",
       "  background-color: #fcf4fa;\n",
       "  color: #000000;\n",
       "}\n",
       "#T_9be08_row1_col4, #T_9be08_row3_col6, #T_9be08_row3_col7, #T_9be08_row4_col4, #T_9be08_row4_col7, #T_9be08_row7_col4 {\n",
       "  background-color: #fdf5fa;\n",
       "  color: #000000;\n",
       "}\n",
       "#T_9be08_row1_col5 {\n",
       "  background-color: #faf2f8;\n",
       "  color: #000000;\n",
       "}\n",
       "#T_9be08_row1_col8, #T_9be08_row1_col9, #T_9be08_row2_col4, #T_9be08_row2_col5, #T_9be08_row2_col6, #T_9be08_row2_col7, #T_9be08_row2_col8, #T_9be08_row2_col9, #T_9be08_row3_col8, #T_9be08_row3_col9, #T_9be08_row4_col8, #T_9be08_row4_col9, #T_9be08_row5_col9, #T_9be08_row6_col9, #T_9be08_row7_col1, #T_9be08_row7_col2, #T_9be08_row7_col3, #T_9be08_row7_col7, #T_9be08_row7_col9 {\n",
       "  background-color: #fff7fb;\n",
       "  color: #000000;\n",
       "}\n",
       "#T_9be08_row2_col1 {\n",
       "  background-color: #f5eff6;\n",
       "  color: #000000;\n",
       "}\n",
       "#T_9be08_row2_col2 {\n",
       "  background-color: #f7f0f7;\n",
       "  color: #000000;\n",
       "}\n",
       "#T_9be08_row2_col3, #T_9be08_row3_col4, #T_9be08_row5_col8, #T_9be08_row7_col6, #T_9be08_row7_col8 {\n",
       "  background-color: #fef6fb;\n",
       "  color: #000000;\n",
       "}\n",
       "#T_9be08_row3_col1 {\n",
       "  background-color: #f0eaf4;\n",
       "  color: #000000;\n",
       "}\n",
       "#T_9be08_row3_col2 {\n",
       "  background-color: #efe9f3;\n",
       "  color: #000000;\n",
       "}\n",
       "#T_9be08_row3_col3, #T_9be08_row3_col5, #T_9be08_row4_col3, #T_9be08_row5_col3, #T_9be08_row5_col4, #T_9be08_row5_col7, #T_9be08_row6_col3, #T_9be08_row6_col8 {\n",
       "  background-color: #fbf4f9;\n",
       "  color: #000000;\n",
       "}\n",
       "#T_9be08_row4_col5 {\n",
       "  background-color: #faf3f9;\n",
       "  color: #000000;\n",
       "}\n",
       "#T_9be08_row5_col1, #T_9be08_row5_col2 {\n",
       "  background-color: #e9e5f1;\n",
       "  color: #000000;\n",
       "}\n",
       "#T_9be08_row5_col5, #T_9be08_row6_col7 {\n",
       "  background-color: #f8f1f8;\n",
       "  color: #000000;\n",
       "}\n",
       "#T_9be08_row5_col6 {\n",
       "  background-color: #fbf3f9;\n",
       "  color: #000000;\n",
       "}\n",
       "#T_9be08_row6_col1 {\n",
       "  background-color: #dedcec;\n",
       "  color: #000000;\n",
       "}\n",
       "#T_9be08_row6_col2 {\n",
       "  background-color: #dcdaeb;\n",
       "  color: #000000;\n",
       "}\n",
       "#T_9be08_row6_col4 {\n",
       "  background-color: #f6eff7;\n",
       "  color: #000000;\n",
       "}\n",
       "#T_9be08_row6_col5 {\n",
       "  background-color: #f1ebf5;\n",
       "  color: #000000;\n",
       "}\n",
       "#T_9be08_row6_col6 {\n",
       "  background-color: #f9f2f8;\n",
       "  color: #000000;\n",
       "}\n",
       "#T_9be08_row7_col5 {\n",
       "  background-color: #fef6fa;\n",
       "  color: #000000;\n",
       "}\n",
       "</style>\n",
       "<table id=\"T_9be08\">\n",
       "  <thead>\n",
       "    <tr>\n",
       "      <th class=\"blank level0\" >&nbsp;</th>\n",
       "      <th id=\"T_9be08_level0_col0\" class=\"col_heading level0 col0\" >DateTime</th>\n",
       "      <th id=\"T_9be08_level0_col1\" class=\"col_heading level0 col1\" >Consumption</th>\n",
       "      <th id=\"T_9be08_level0_col2\" class=\"col_heading level0 col2\" >Production</th>\n",
       "      <th id=\"T_9be08_level0_col3\" class=\"col_heading level0 col3\" >Nuclear</th>\n",
       "      <th id=\"T_9be08_level0_col4\" class=\"col_heading level0 col4\" >Wind</th>\n",
       "      <th id=\"T_9be08_level0_col5\" class=\"col_heading level0 col5\" >Hydroelectric</th>\n",
       "      <th id=\"T_9be08_level0_col6\" class=\"col_heading level0 col6\" >Oil and Gas</th>\n",
       "      <th id=\"T_9be08_level0_col7\" class=\"col_heading level0 col7\" >Coal</th>\n",
       "      <th id=\"T_9be08_level0_col8\" class=\"col_heading level0 col8\" >Solar</th>\n",
       "      <th id=\"T_9be08_level0_col9\" class=\"col_heading level0 col9\" >Biomass</th>\n",
       "    </tr>\n",
       "  </thead>\n",
       "  <tbody>\n",
       "    <tr>\n",
       "      <th id=\"T_9be08_level0_row0\" class=\"row_heading level0 row0\" >count</th>\n",
       "      <td id=\"T_9be08_row0_col0\" class=\"data row0 col0\" >46011</td>\n",
       "      <td id=\"T_9be08_row0_col1\" class=\"data row0 col1\" >46011.000000</td>\n",
       "      <td id=\"T_9be08_row0_col2\" class=\"data row0 col2\" >46011.000000</td>\n",
       "      <td id=\"T_9be08_row0_col3\" class=\"data row0 col3\" >46011.000000</td>\n",
       "      <td id=\"T_9be08_row0_col4\" class=\"data row0 col4\" >46011.000000</td>\n",
       "      <td id=\"T_9be08_row0_col5\" class=\"data row0 col5\" >46011.000000</td>\n",
       "      <td id=\"T_9be08_row0_col6\" class=\"data row0 col6\" >46011.000000</td>\n",
       "      <td id=\"T_9be08_row0_col7\" class=\"data row0 col7\" >46011.000000</td>\n",
       "      <td id=\"T_9be08_row0_col8\" class=\"data row0 col8\" >46011.000000</td>\n",
       "      <td id=\"T_9be08_row0_col9\" class=\"data row0 col9\" >46011.000000</td>\n",
       "    </tr>\n",
       "    <tr>\n",
       "      <th id=\"T_9be08_level0_row1\" class=\"row_heading level0 row1\" >mean</th>\n",
       "      <td id=\"T_9be08_row1_col0\" class=\"data row1 col0\" >2021-08-16 11:19:47.715981056</td>\n",
       "      <td id=\"T_9be08_row1_col1\" class=\"data row1 col1\" >6587.616440</td>\n",
       "      <td id=\"T_9be08_row1_col2\" class=\"data row1 col2\" >6518.645628</td>\n",
       "      <td id=\"T_9be08_row1_col3\" class=\"data row1 col3\" >1291.177501</td>\n",
       "      <td id=\"T_9be08_row1_col4\" class=\"data row1 col4\" >792.310882</td>\n",
       "      <td id=\"T_9be08_row1_col5\" class=\"data row1 col5\" >1857.052444</td>\n",
       "      <td id=\"T_9be08_row1_col6\" class=\"data row1 col6\" >1171.890418</td>\n",
       "      <td id=\"T_9be08_row1_col7\" class=\"data row1 col7\" >1193.157332</td>\n",
       "      <td id=\"T_9be08_row1_col8\" class=\"data row1 col8\" >156.688031</td>\n",
       "      <td id=\"T_9be08_row1_col9\" class=\"data row1 col9\" >55.851862</td>\n",
       "    </tr>\n",
       "    <tr>\n",
       "      <th id=\"T_9be08_level0_row2\" class=\"row_heading level0 row2\" >min</th>\n",
       "      <td id=\"T_9be08_row2_col0\" class=\"data row2 col0\" >2019-01-01 00:00:00</td>\n",
       "      <td id=\"T_9be08_row2_col1\" class=\"data row2 col1\" >3889.000000</td>\n",
       "      <td id=\"T_9be08_row2_col2\" class=\"data row2 col2\" >3315.000000</td>\n",
       "      <td id=\"T_9be08_row2_col3\" class=\"data row2 col3\" >562.000000</td>\n",
       "      <td id=\"T_9be08_row2_col4\" class=\"data row2 col4\" >-26.000000</td>\n",
       "      <td id=\"T_9be08_row2_col5\" class=\"data row2 col5\" >175.000000</td>\n",
       "      <td id=\"T_9be08_row2_col6\" class=\"data row2 col6\" >198.000000</td>\n",
       "      <td id=\"T_9be08_row2_col7\" class=\"data row2 col7\" >279.000000</td>\n",
       "      <td id=\"T_9be08_row2_col8\" class=\"data row2 col8\" >0.000000</td>\n",
       "      <td id=\"T_9be08_row2_col9\" class=\"data row2 col9\" >17.000000</td>\n",
       "    </tr>\n",
       "    <tr>\n",
       "      <th id=\"T_9be08_level0_row3\" class=\"row_heading level0 row3\" >25%</th>\n",
       "      <td id=\"T_9be08_row3_col0\" class=\"data row3 col0\" >2020-04-24 06:30:00</td>\n",
       "      <td id=\"T_9be08_row3_col1\" class=\"data row3 col1\" >5773.000000</td>\n",
       "      <td id=\"T_9be08_row3_col2\" class=\"data row3 col2\" >5814.000000</td>\n",
       "      <td id=\"T_9be08_row3_col3\" class=\"data row3 col3\" >1347.000000</td>\n",
       "      <td id=\"T_9be08_row3_col4\" class=\"data row3 col4\" >236.000000</td>\n",
       "      <td id=\"T_9be08_row3_col5\" class=\"data row3 col5\" >1347.000000</td>\n",
       "      <td id=\"T_9be08_row3_col6\" class=\"data row3 col6\" >858.000000</td>\n",
       "      <td id=\"T_9be08_row3_col7\" class=\"data row3 col7\" >962.000000</td>\n",
       "      <td id=\"T_9be08_row3_col8\" class=\"data row3 col8\" >0.000000</td>\n",
       "      <td id=\"T_9be08_row3_col9\" class=\"data row3 col9\" >45.000000</td>\n",
       "    </tr>\n",
       "    <tr>\n",
       "      <th id=\"T_9be08_level0_row4\" class=\"row_heading level0 row4\" >50%</th>\n",
       "      <td id=\"T_9be08_row4_col0\" class=\"data row4 col0\" >2021-08-16 12:00:00</td>\n",
       "      <td id=\"T_9be08_row4_col1\" class=\"data row4 col1\" >6552.000000</td>\n",
       "      <td id=\"T_9be08_row4_col2\" class=\"data row4 col2\" >6462.000000</td>\n",
       "      <td id=\"T_9be08_row4_col3\" class=\"data row4 col3\" >1383.000000</td>\n",
       "      <td id=\"T_9be08_row4_col4\" class=\"data row4 col4\" >592.000000</td>\n",
       "      <td id=\"T_9be08_row4_col5\" class=\"data row4 col5\" >1747.000000</td>\n",
       "      <td id=\"T_9be08_row4_col6\" class=\"data row4 col6\" >1211.000000</td>\n",
       "      <td id=\"T_9be08_row4_col7\" class=\"data row4 col7\" >1172.000000</td>\n",
       "      <td id=\"T_9be08_row4_col8\" class=\"data row4 col8\" >2.000000</td>\n",
       "      <td id=\"T_9be08_row4_col9\" class=\"data row4 col9\" >57.000000</td>\n",
       "    </tr>\n",
       "    <tr>\n",
       "      <th id=\"T_9be08_level0_row5\" class=\"row_heading level0 row5\" >75%</th>\n",
       "      <td id=\"T_9be08_row5_col0\" class=\"data row5 col0\" >2022-12-08 15:30:00</td>\n",
       "      <td id=\"T_9be08_row5_col1\" class=\"data row5 col1\" >7321.000000</td>\n",
       "      <td id=\"T_9be08_row5_col2\" class=\"data row5 col2\" >7176.000000</td>\n",
       "      <td id=\"T_9be08_row5_col3\" class=\"data row5 col3\" >1405.000000</td>\n",
       "      <td id=\"T_9be08_row5_col4\" class=\"data row5 col4\" >1205.000000</td>\n",
       "      <td id=\"T_9be08_row5_col5\" class=\"data row5 col5\" >2265.000000</td>\n",
       "      <td id=\"T_9be08_row5_col6\" class=\"data row5 col6\" >1511.000000</td>\n",
       "      <td id=\"T_9be08_row5_col7\" class=\"data row5 col7\" >1406.000000</td>\n",
       "      <td id=\"T_9be08_row5_col8\" class=\"data row5 col8\" >280.000000</td>\n",
       "      <td id=\"T_9be08_row5_col9\" class=\"data row5 col9\" >67.000000</td>\n",
       "    </tr>\n",
       "    <tr>\n",
       "      <th id=\"T_9be08_level0_row6\" class=\"row_heading level0 row6\" >max</th>\n",
       "      <td id=\"T_9be08_row6_col0\" class=\"data row6 col0\" >2024-03-31 23:00:00</td>\n",
       "      <td id=\"T_9be08_row6_col1\" class=\"data row6 col1\" >9615.000000</td>\n",
       "      <td id=\"T_9be08_row6_col2\" class=\"data row6 col2\" >9886.000000</td>\n",
       "      <td id=\"T_9be08_row6_col3\" class=\"data row6 col3\" >1457.000000</td>\n",
       "      <td id=\"T_9be08_row6_col4\" class=\"data row6 col4\" >2811.000000</td>\n",
       "      <td id=\"T_9be08_row6_col5\" class=\"data row6 col5\" >4434.000000</td>\n",
       "      <td id=\"T_9be08_row6_col6\" class=\"data row6 col6\" >2141.000000</td>\n",
       "      <td id=\"T_9be08_row6_col7\" class=\"data row6 col7\" >2537.000000</td>\n",
       "      <td id=\"T_9be08_row6_col8\" class=\"data row6 col8\" >1137.000000</td>\n",
       "      <td id=\"T_9be08_row6_col9\" class=\"data row6 col9\" >89.000000</td>\n",
       "    </tr>\n",
       "    <tr>\n",
       "      <th id=\"T_9be08_level0_row7\" class=\"row_heading level0 row7\" >std</th>\n",
       "      <td id=\"T_9be08_row7_col0\" class=\"data row7 col0\" >nan</td>\n",
       "      <td id=\"T_9be08_row7_col1\" class=\"data row7 col1\" >1043.654923</td>\n",
       "      <td id=\"T_9be08_row7_col2\" class=\"data row7 col2\" >986.805018</td>\n",
       "      <td id=\"T_9be08_row7_col3\" class=\"data row7 col3\" >236.549637</td>\n",
       "      <td id=\"T_9be08_row7_col4\" class=\"data row7 col4\" >675.812712</td>\n",
       "      <td id=\"T_9be08_row7_col5\" class=\"data row7 col5\" >692.592157</td>\n",
       "      <td id=\"T_9be08_row7_col6\" class=\"data row7 col6\" >434.748917</td>\n",
       "      <td id=\"T_9be08_row7_col7\" class=\"data row7 col7\" >320.449368</td>\n",
       "      <td id=\"T_9be08_row7_col8\" class=\"data row7 col8\" >229.502650</td>\n",
       "      <td id=\"T_9be08_row7_col9\" class=\"data row7 col9\" >14.235554</td>\n",
       "    </tr>\n",
       "  </tbody>\n",
       "</table>\n"
      ],
      "text/plain": [
       "<pandas.io.formats.style.Styler at 0x72c9def324d0>"
      ]
     },
     "execution_count": 8,
     "metadata": {},
     "output_type": "execute_result"
    }
   ],
   "source": [
    "df.describe().style.background_gradient()\n"
   ]
  },
  {
   "cell_type": "code",
   "execution_count": 9,
   "id": "3a1161c3",
   "metadata": {
    "execution": {
     "iopub.execute_input": "2024-08-22T11:36:23.023973Z",
     "iopub.status.busy": "2024-08-22T11:36:23.023175Z",
     "iopub.status.idle": "2024-08-22T11:36:23.030334Z",
     "shell.execute_reply": "2024-08-22T11:36:23.029291Z"
    },
    "papermill": {
     "duration": 0.038476,
     "end_time": "2024-08-22T11:36:23.032360",
     "exception": false,
     "start_time": "2024-08-22T11:36:22.993884",
     "status": "completed"
    },
    "tags": []
   },
   "outputs": [
    {
     "name": "stdout",
     "output_type": "stream",
     "text": [
      "Starting Date:  2019-01-01 00:00:00\n",
      "End Date     :  2024-03-31 23:00:00\n"
     ]
    }
   ],
   "source": [
    "print(\"Starting Date: \", df['DateTime'].min())\n",
    "print(\"End Date     : \", df['DateTime'].max())"
   ]
  },
  {
   "cell_type": "markdown",
   "id": "dad0e0ed",
   "metadata": {},
   "source": [
    "A seguir vamos plotar um mix energético de consumo da Romênia, padrões temporais de cada fonte de energia, complementariedade entre diferentes fontes de energia, variabilidade das fontes renováveis vs convencionais, sazonalidade, e outras análises."
   ]
  },
  {
   "cell_type": "code",
   "execution_count": 10,
   "id": "1998540a",
   "metadata": {
    "execution": {
     "iopub.execute_input": "2024-08-22T11:36:23.089693Z",
     "iopub.status.busy": "2024-08-22T11:36:23.089275Z",
     "iopub.status.idle": "2024-08-22T11:36:26.859591Z",
     "shell.execute_reply": "2024-08-22T11:36:26.858757Z"
    },
    "papermill": {
     "duration": 3.806268,
     "end_time": "2024-08-22T11:36:26.865326",
     "exception": false,
     "start_time": "2024-08-22T11:36:23.059058",
     "status": "completed"
    },
    "tags": []
   },
   "outputs": [
    {
     "data": {
      "image/png": "[encoded data removed]",
      "text/plain": [
       "<Figure size 1400x1000 with 9 Axes>"
      ]
     },
     "metadata": {},
     "output_type": "display_data"
    }
   ],
   "source": [
    "plt.style.use('fivethirtyeight')\n",
    "\n",
    "df2 = df.copy('Deep') # Deep copy - modificações não afetam o original\n",
    "df2 = df2.set_index('DateTime')\n",
    "\n",
    "# Facet plots:\n",
    "df2.plot(subplots=True,\n",
    "        linewidth=0.5,\n",
    "        layout=(3, 3),\n",
    "        figsize=(14, 10),\n",
    "        sharex=False,\n",
    "        sharey=False)\n",
    "plt.tight_layout()\n",
    "plt.show()\n"
   ]
  },
  {
   "cell_type": "code",
   "execution_count": null,
   "id": "ccc8f293",
   "metadata": {
    "execution": {
     "iopub.execute_input": "2024-08-22T11:36:26.936338Z",
     "iopub.status.busy": "2024-08-22T11:36:26.935596Z",
     "iopub.status.idle": "2024-08-22T11:36:28.458558Z",
     "shell.execute_reply": "2024-08-22T11:36:28.457713Z"
    },
    "papermill": {
     "duration": 1.561178,
     "end_time": "2024-08-22T11:36:28.460895",
     "exception": false,
     "start_time": "2024-08-22T11:36:26.899717",
     "status": "completed"
    },
    "tags": []
   },
   "outputs": [],
   "source": [
    "# Create the first subplot with red color\n",
    "ax1 = sns.displot(data=df, x=\"Consumption\", kde=True, bins=100, color=\"red\", \n",
    "            facecolor=\"#FF0000\", height=5, aspect=3.5)\n",
    "\n",
    "# Create the second subplot on the same figure with blue color\n",
    "ax2 = sns.displot(data=df, x=\"Production\", kde=True, bins=100, color=\"blue\", \n",
    "            facecolor=\"#0000FF\", height=5, aspect=3.5)"
   ]
  },
  {
   "cell_type": "code",
   "execution_count": null,
   "id": "6d7294f4",
   "metadata": {
    "execution": {
     "iopub.execute_input": "2024-08-22T11:36:28.533332Z",
     "iopub.status.busy": "2024-08-22T11:36:28.533055Z",
     "iopub.status.idle": "2024-08-22T11:36:28.547046Z",
     "shell.execute_reply": "2024-08-22T11:36:28.546147Z"
    },
    "papermill": {
     "duration": 0.051957,
     "end_time": "2024-08-22T11:36:28.548994",
     "exception": false,
     "start_time": "2024-08-22T11:36:28.497037",
     "status": "completed"
    },
    "tags": []
   },
   "outputs": [],
   "source": [
    "df_consumption = df[['DateTime','Consumption']]\n",
    "df_consumption.head()"
   ]
  },
  {
   "cell_type": "code",
   "execution_count": null,
   "id": "6d40f9fe",
   "metadata": {
    "execution": {
     "iopub.execute_input": "2024-08-22T11:36:28.622552Z",
     "iopub.status.busy": "2024-08-22T11:36:28.621944Z",
     "iopub.status.idle": "2024-08-22T11:36:29.145488Z",
     "shell.execute_reply": "2024-08-22T11:36:29.144626Z"
    },
    "papermill": {
     "duration": 0.56295,
     "end_time": "2024-08-22T11:36:29.148057",
     "exception": false,
     "start_time": "2024-08-22T11:36:28.585107",
     "status": "completed"
    },
    "tags": []
   },
   "outputs": [],
   "source": [
    "df5 = df_consumption.copy('Deep')\n",
    "df5 = df5.set_index('DateTime')\n",
    "df5['Consumption'].plot(figsize=(20,5))\n",
    "plt.show()"
   ]
  },
  {
   "cell_type": "code",
   "execution_count": null,
   "id": "ff1ef9ac",
   "metadata": {
    "execution": {
     "iopub.execute_input": "2024-08-22T11:36:29.264969Z",
     "iopub.status.busy": "2024-08-22T11:36:29.264141Z",
     "iopub.status.idle": "2024-08-22T11:36:29.776682Z",
     "shell.execute_reply": "2024-08-22T11:36:29.775810Z"
    },
    "papermill": {
     "duration": 0.594024,
     "end_time": "2024-08-22T11:36:29.780200",
     "exception": false,
     "start_time": "2024-08-22T11:36:29.186176",
     "status": "completed"
    },
    "tags": []
   },
   "outputs": [],
   "source": [
    "## xlimit and y limit\n",
    "df5['Consumption'].plot(xlim=['2024-01-01','2024-03-31'],figsize=(20,5))\n",
    "plt.show()"
   ]
  },
  {
   "cell_type": "code",
   "execution_count": null,
   "id": "803226c5",
   "metadata": {
    "execution": {
     "iopub.execute_input": "2024-08-22T11:36:29.861240Z",
     "iopub.status.busy": "2024-08-22T11:36:29.860912Z",
     "iopub.status.idle": "2024-08-22T11:36:30.225432Z",
     "shell.execute_reply": "2024-08-22T11:36:30.224514Z"
    },
    "papermill": {
     "duration": 0.407862,
     "end_time": "2024-08-22T11:36:30.228563",
     "exception": false,
     "start_time": "2024-08-22T11:36:29.820701",
     "status": "completed"
    },
    "tags": []
   },
   "outputs": [],
   "source": [
    "## xlimit and y limit\n",
    "df5['Consumption'].plot(xlim=['2024-01-01','2024-03-31'],figsize=(20,5),ylim=[3000,10000],ls='--',c='Red')\n",
    "plt.show()"
   ]
  },
  {
   "cell_type": "code",
   "execution_count": null,
   "id": "d64c279e",
   "metadata": {
    "execution": {
     "iopub.execute_input": "2024-08-22T11:36:30.315531Z",
     "iopub.status.busy": "2024-08-22T11:36:30.314993Z",
     "iopub.status.idle": "2024-08-22T11:36:30.331264Z",
     "shell.execute_reply": "2024-08-22T11:36:30.330430Z"
    },
    "papermill": {
     "duration": 0.061332,
     "end_time": "2024-08-22T11:36:30.333401",
     "exception": false,
     "start_time": "2024-08-22T11:36:30.272069",
     "status": "completed"
    },
    "tags": []
   },
   "outputs": [],
   "source": [
    "index=df5.loc['2023-01-01':'2023-09-01'].index\n",
    "Consumption=df5.loc['2023-01-01':'2023-09-01']['Consumption']\n",
    "Consumption"
   ]
  },
  {
   "cell_type": "code",
   "execution_count": null,
   "id": "8e021839",
   "metadata": {
    "execution": {
     "iopub.execute_input": "2024-08-22T11:36:30.421722Z",
     "iopub.status.busy": "2024-08-22T11:36:30.421062Z",
     "iopub.status.idle": "2024-08-22T11:36:30.425473Z",
     "shell.execute_reply": "2024-08-22T11:36:30.424680Z"
    },
    "papermill": {
     "duration": 0.051556,
     "end_time": "2024-08-22T11:36:30.428082",
     "exception": false,
     "start_time": "2024-08-22T11:36:30.376526",
     "status": "completed"
    },
    "tags": []
   },
   "outputs": [],
   "source": [
    "print(plt.style.available)"
   ]
  },
  {
   "cell_type": "code",
   "execution_count": null,
   "id": "16d59a32",
   "metadata": {
    "execution": {
     "iopub.execute_input": "2024-08-22T11:36:30.515091Z",
     "iopub.status.busy": "2024-08-22T11:36:30.514795Z",
     "iopub.status.idle": "2024-08-22T11:36:31.109113Z",
     "shell.execute_reply": "2024-08-22T11:36:31.108194Z"
    },
    "papermill": {
     "duration": 0.639933,
     "end_time": "2024-08-22T11:36:31.111031",
     "exception": false,
     "start_time": "2024-08-22T11:36:30.471098",
     "status": "completed"
    },
    "tags": []
   },
   "outputs": [],
   "source": [
    "plt.style.use('fivethirtyeight')\n",
    "df5 = df_consumption.copy('Deep')\n",
    "df5 = df5.set_index('DateTime')\n",
    "df5['Consumption'].plot(figsize=(20,5))\n",
    "plt.show()"
   ]
  },
  {
   "cell_type": "code",
   "execution_count": null,
   "id": "e33d33a4",
   "metadata": {
    "execution": {
     "iopub.execute_input": "2024-08-22T11:36:31.203811Z",
     "iopub.status.busy": "2024-08-22T11:36:31.202814Z",
     "iopub.status.idle": "2024-08-22T11:36:31.914454Z",
     "shell.execute_reply": "2024-08-22T11:36:31.913575Z"
    },
    "papermill": {
     "duration": 0.761018,
     "end_time": "2024-08-22T11:36:31.917697",
     "exception": false,
     "start_time": "2024-08-22T11:36:31.156679",
     "status": "completed"
    },
    "tags": []
   },
   "outputs": [],
   "source": [
    "ax = df5['Consumption'].plot(xlim=['2020-01-01','2023-12-31'], ylim=[3000,10000] ,color =\"Red\", figsize=(20,7))\n",
    "ax.set_xlabel('Date', color = \"Red\" ,fontsize= 20)\n",
    "ax.set_ylabel('Electricity Consumption', color = \"Red\", fontsize=20)\n",
    "ax.set_title('Electricity Consumption from 2020-01-01 to 2023-12-31 ', color = \"Blue\",  fontsize=24 ,pad=20)\n",
    "plt.show()"
   ]
  },
  {
   "cell_type": "code",
   "execution_count": null,
   "id": "adfdb381",
   "metadata": {
    "execution": {
     "iopub.execute_input": "2024-08-22T11:36:32.016297Z",
     "iopub.status.busy": "2024-08-22T11:36:32.015960Z",
     "iopub.status.idle": "2024-08-22T11:36:32.655321Z",
     "shell.execute_reply": "2024-08-22T11:36:32.654365Z"
    },
    "papermill": {
     "duration": 0.690299,
     "end_time": "2024-08-22T11:36:32.658334",
     "exception": false,
     "start_time": "2024-08-22T11:36:31.968035",
     "status": "completed"
    },
    "tags": []
   },
   "outputs": [],
   "source": [
    "# adding markers\n",
    "ax = df5['Consumption'].plot(xlim=['2020-01-01','2023-12-31'], ylim=[3000,10000] ,color =\"Red\", figsize=(20,7))\n",
    "ax.set_xlabel('Date', color = \"Red\" ,fontsize= 20)\n",
    "ax.set_ylabel('Electricity Consumption', color = \"Red\", fontsize=20)\n",
    "ax.set_title('Electricity Consumption from 2020-01-01 to 2023-12-31 ', color = \"Blue\",  fontsize=24 ,pad=20)\n",
    "\n",
    "ax.axvline('2021-01-01', color='Blue', linestyle='--', lw = 5)\n",
    "ax.axvline('2021-12-31', color='Blue', linestyle='--', lw = 5)\n",
    "ax.axhline(7000, color='green', linestyle='--', lw = 5)\n",
    "plt.show()"
   ]
  },
  {
   "cell_type": "code",
   "execution_count": null,
   "id": "b12952fc",
   "metadata": {
    "execution": {
     "iopub.execute_input": "2024-08-22T11:36:32.757503Z",
     "iopub.status.busy": "2024-08-22T11:36:32.757204Z",
     "iopub.status.idle": "2024-08-22T11:36:33.558505Z",
     "shell.execute_reply": "2024-08-22T11:36:33.557586Z"
    },
    "papermill": {
     "duration": 0.853717,
     "end_time": "2024-08-22T11:36:33.561762",
     "exception": false,
     "start_time": "2024-08-22T11:36:32.708045",
     "status": "completed"
    },
    "tags": []
   },
   "outputs": [],
   "source": [
    "# Highlighting regions of interest\n",
    "ax = df5['Consumption'].plot(xlim=['2020-01-01','2023-12-31'], ylim=[3000,10000] ,color =\"Blue\", figsize=(20,12))\n",
    "ax.set_xlabel('Date', color = \"Red\" ,fontsize= 20)\n",
    "ax.set_ylabel('Electricity Consumption', color = \"Red\", fontsize=20)\n",
    "ax.set_title('Electricity Consumption from 2020-01-01 to 2023-12-31 ', color = \"Blue\",  fontsize=24 ,pad=20)\n",
    "\n",
    "ax.axvspan('2021-01-01', '2021-12-31', color='Red', alpha=0.3)\n",
    "ax.axhspan(8000, 6000, color='green', alpha=0.3)\n",
    "plt.show()"
   ]
  },
  {
   "cell_type": "code",
   "execution_count": null,
   "id": "fe20e689",
   "metadata": {
    "execution": {
     "iopub.execute_input": "2024-08-22T11:36:33.668181Z",
     "iopub.status.busy": "2024-08-22T11:36:33.667478Z",
     "iopub.status.idle": "2024-08-22T11:36:34.076186Z",
     "shell.execute_reply": "2024-08-22T11:36:34.073512Z"
    },
    "papermill": {
     "duration": 0.464386,
     "end_time": "2024-08-22T11:36:34.078647",
     "exception": false,
     "start_time": "2024-08-22T11:36:33.614261",
     "status": "completed"
    },
    "tags": []
   },
   "outputs": [],
   "source": [
    "figure,axis=plt.subplots()\n",
    "plt.tight_layout()\n",
    "## Preventing overlapping\n",
    "figure.autofmt_xdate()\n",
    "axis.plot(index,Consumption);"
   ]
  },
  {
   "cell_type": "code",
   "execution_count": null,
   "id": "9947170e",
   "metadata": {
    "execution": {
     "iopub.execute_input": "2024-08-22T11:36:34.190432Z",
     "iopub.status.busy": "2024-08-22T11:36:34.189609Z",
     "iopub.status.idle": "2024-08-22T11:36:34.496943Z",
     "shell.execute_reply": "2024-08-22T11:36:34.496054Z"
    },
    "papermill": {
     "duration": 0.363067,
     "end_time": "2024-08-22T11:36:34.499169",
     "exception": false,
     "start_time": "2024-08-22T11:36:34.136102",
     "status": "completed"
    },
    "tags": []
   },
   "outputs": [],
   "source": [
    "##year end frequency\n",
    "df5.resample(rule='A').max()['Consumption'].plot(figsize=(20,5));"
   ]
  },
  {
   "cell_type": "code",
   "execution_count": null,
   "id": "428f216a",
   "metadata": {
    "execution": {
     "iopub.execute_input": "2024-08-22T11:36:34.607694Z",
     "iopub.status.busy": "2024-08-22T11:36:34.607107Z",
     "iopub.status.idle": "2024-08-22T11:36:34.966681Z",
     "shell.execute_reply": "2024-08-22T11:36:34.965762Z"
    },
    "papermill": {
     "duration": 0.415882,
     "end_time": "2024-08-22T11:36:34.969334",
     "exception": false,
     "start_time": "2024-08-22T11:36:34.553452",
     "status": "completed"
    },
    "tags": []
   },
   "outputs": [],
   "source": [
    "df5.resample(rule='QS').max()['Consumption'].plot(figsize=(20,5));"
   ]
  },
  {
   "cell_type": "code",
   "execution_count": null,
   "id": "6b7b080c",
   "metadata": {
    "execution": {
     "iopub.execute_input": "2024-08-22T11:36:35.081595Z",
     "iopub.status.busy": "2024-08-22T11:36:35.081265Z",
     "iopub.status.idle": "2024-08-22T11:36:35.403819Z",
     "shell.execute_reply": "2024-08-22T11:36:35.402902Z"
    },
    "papermill": {
     "duration": 0.380263,
     "end_time": "2024-08-22T11:36:35.406094",
     "exception": false,
     "start_time": "2024-08-22T11:36:35.025831",
     "status": "completed"
    },
    "tags": []
   },
   "outputs": [],
   "source": [
    "##plotting\n",
    "df5['Consumption'].resample(rule='A').mean().plot(kind='bar',figsize=(20,5));"
   ]
  },
  {
   "cell_type": "code",
   "execution_count": null,
   "id": "77d03e80",
   "metadata": {
    "execution": {
     "iopub.execute_input": "2024-08-22T11:36:35.519742Z",
     "iopub.status.busy": "2024-08-22T11:36:35.519117Z",
     "iopub.status.idle": "2024-08-22T11:36:36.312549Z",
     "shell.execute_reply": "2024-08-22T11:36:36.311652Z"
    },
    "papermill": {
     "duration": 0.852054,
     "end_time": "2024-08-22T11:36:36.314748",
     "exception": false,
     "start_time": "2024-08-22T11:36:35.462694",
     "status": "completed"
    },
    "tags": []
   },
   "outputs": [],
   "source": [
    "df5['Consumption'].resample(rule='M').max().plot(kind='bar',figsize=(20,5));"
   ]
  },
  {
   "cell_type": "code",
   "execution_count": null,
   "id": "3642f2b4",
   "metadata": {
    "execution": {
     "iopub.execute_input": "2024-08-22T11:36:36.430159Z",
     "iopub.status.busy": "2024-08-22T11:36:36.429853Z",
     "iopub.status.idle": "2024-08-22T11:36:36.440352Z",
     "shell.execute_reply": "2024-08-22T11:36:36.439503Z"
    },
    "papermill": {
     "duration": 0.069915,
     "end_time": "2024-08-22T11:36:36.442358",
     "exception": false,
     "start_time": "2024-08-22T11:36:36.372443",
     "status": "completed"
    },
    "tags": []
   },
   "outputs": [],
   "source": [
    "df5['Consumption'].rolling(5).max().head(8)"
   ]
  },
  {
   "cell_type": "code",
   "execution_count": null,
   "id": "bf6cee8a",
   "metadata": {
    "execution": {
     "iopub.execute_input": "2024-08-22T11:36:36.557817Z",
     "iopub.status.busy": "2024-08-22T11:36:36.557478Z",
     "iopub.status.idle": "2024-08-22T11:36:36.600273Z",
     "shell.execute_reply": "2024-08-22T11:36:36.599402Z"
    },
    "papermill": {
     "duration": 0.102765,
     "end_time": "2024-08-22T11:36:36.602141",
     "exception": false,
     "start_time": "2024-08-22T11:36:36.499376",
     "status": "completed"
    },
    "tags": []
   },
   "outputs": [],
   "source": [
    "count_date = df5.groupby(df5.index.date)['Consumption'].sum()\n",
    "\n",
    "pw_clean = pd.DataFrame(count_date)\n",
    "pw_clean['DateTime'] = pd.to_datetime(pw_clean.index) \n",
    "pw_clean = pw_clean.set_index('DateTime')\n",
    "pw_clean.head()"
   ]
  },
  {
   "cell_type": "code",
   "execution_count": null,
   "id": "30924d8d",
   "metadata": {
    "execution": {
     "iopub.execute_input": "2024-08-22T11:36:36.721420Z",
     "iopub.status.busy": "2024-08-22T11:36:36.721071Z",
     "iopub.status.idle": "2024-08-22T11:36:36.731848Z",
     "shell.execute_reply": "2024-08-22T11:36:36.730963Z"
    },
    "papermill": {
     "duration": 0.072563,
     "end_time": "2024-08-22T11:36:36.733706",
     "exception": false,
     "start_time": "2024-08-22T11:36:36.661143",
     "status": "completed"
    },
    "tags": []
   },
   "outputs": [],
   "source": [
    "pw_clean['Consumption:30 days rolling']=pw_clean['Consumption'].rolling(30).mean()\n",
    "pw_clean.head(3)"
   ]
  },
  {
   "cell_type": "code",
   "execution_count": null,
   "id": "be391cc9",
   "metadata": {
    "execution": {
     "iopub.execute_input": "2024-08-22T11:36:36.849705Z",
     "iopub.status.busy": "2024-08-22T11:36:36.849361Z",
     "iopub.status.idle": "2024-08-22T11:36:37.382611Z",
     "shell.execute_reply": "2024-08-22T11:36:37.381665Z"
    },
    "papermill": {
     "duration": 0.594313,
     "end_time": "2024-08-22T11:36:37.386046",
     "exception": false,
     "start_time": "2024-08-22T11:36:36.791733",
     "status": "completed"
    },
    "tags": []
   },
   "outputs": [],
   "source": [
    "pw_clean[['Consumption','Consumption:30 days rolling']].plot(figsize=(20,5));"
   ]
  },
  {
   "cell_type": "code",
   "execution_count": null,
   "id": "8880c16f",
   "metadata": {
    "execution": {
     "iopub.execute_input": "2024-08-22T11:36:37.513905Z",
     "iopub.status.busy": "2024-08-22T11:36:37.513545Z",
     "iopub.status.idle": "2024-08-22T11:36:38.992899Z",
     "shell.execute_reply": "2024-08-22T11:36:38.991906Z"
    },
    "papermill": {
     "duration": 1.550694,
     "end_time": "2024-08-22T11:36:38.998913",
     "exception": false,
     "start_time": "2024-08-22T11:36:37.448219",
     "status": "completed"
    },
    "tags": []
   },
   "outputs": [],
   "source": [
    "import matplotlib.cm as cm  # Import colormap library\n",
    "\n",
    "df1 = df[['DateTime','Consumption']].copy('Deep')\n",
    "df1 = df1.set_index('DateTime')\n",
    " \n",
    "years = [2019, 2020, 2021, 2022, 2023, 2024]\n",
    "\n",
    "cmap = cm.get_cmap('tab20')  # Choose a colormap with bright colors\n",
    "\n",
    "fig, axs = plt.subplots(len(years), 1, figsize=(20, 15))  # Adjust figsize for layout\n",
    "for i, year in enumerate(years):\n",
    "    df_year = df1[(df1.index >= f\"{year}-01-01\") & (df1.index < f\"{year+1}-01-01\")]\n",
    "    color = cmap(i / (len(years) - 1))  # Get color from colormap based on index\n",
    "    axs[i].plot(df_year, lw=3, color=color, label=f\"{year}\")  # Include year as label\n",
    "\n",
    "# Set common labels and title\n",
    "axs[0].set_xlabel('Time', fontsize=14)  # Set on first subplot for all\n",
    "axs[-1].set_ylabel('Energy Consumption]', fontsize=14)  # Set on last subplot for all\n",
    "plt.suptitle('Energy consumption \\n', weight='bold', fontsize=20, color='#DE3163')\n",
    "\n",
    "# Add legend\n",
    "handles, labels = axs[-1].get_legend_handles_labels()  # Get labels from last subplot\n",
    "plt.legend(handles, labels, loc='upper left', bbox_to_anchor=(1, 1.15), fontsize=12)  # Add legend outside plot\n",
    "\n",
    "plt.tight_layout()\n",
    "plt.show()"
   ]
  },
  {
   "cell_type": "code",
   "execution_count": null,
   "id": "03cfb1e6",
   "metadata": {
    "execution": {
     "iopub.execute_input": "2024-08-22T11:36:39.139401Z",
     "iopub.status.busy": "2024-08-22T11:36:39.138728Z",
     "iopub.status.idle": "2024-08-22T11:36:39.150434Z",
     "shell.execute_reply": "2024-08-22T11:36:39.149485Z"
    },
    "papermill": {
     "duration": 0.083739,
     "end_time": "2024-08-22T11:36:39.152411",
     "exception": false,
     "start_time": "2024-08-22T11:36:39.068672",
     "status": "completed"
    },
    "tags": []
   },
   "outputs": [],
   "source": [
    "df.head(2)"
   ]
  },
  {
   "cell_type": "code",
   "execution_count": null,
   "id": "8a0e0c10",
   "metadata": {
    "execution": {
     "iopub.execute_input": "2024-08-22T11:36:39.293483Z",
     "iopub.status.busy": "2024-08-22T11:36:39.292664Z",
     "iopub.status.idle": "2024-08-22T11:36:39.736905Z",
     "shell.execute_reply": "2024-08-22T11:36:39.735951Z"
    },
    "papermill": {
     "duration": 0.518274,
     "end_time": "2024-08-22T11:36:39.740396",
     "exception": false,
     "start_time": "2024-08-22T11:36:39.222122",
     "status": "completed"
    },
    "tags": []
   },
   "outputs": [],
   "source": [
    "df2 = df.copy('Deep')\n",
    "df2 = df2.set_index('DateTime')\n",
    "\n",
    "dfSummer = df2[[\"Consumption\", \"Production\"]][\"2024-03-01 00:00:00\" : \"2024-04-01 23:59:59\"]\n",
    "dfSummer.plot(style=\"-\", figsize=(20, 6), title=f\"Consumption Production, in MW\")\n",
    "plt.ylabel('MW')\n",
    "plt.show()"
   ]
  },
  {
   "cell_type": "code",
   "execution_count": null,
   "id": "efc87f71",
   "metadata": {
    "execution": {
     "iopub.execute_input": "2024-08-22T11:36:39.887617Z",
     "iopub.status.busy": "2024-08-22T11:36:39.887270Z",
     "iopub.status.idle": "2024-08-22T11:36:40.335521Z",
     "shell.execute_reply": "2024-08-22T11:36:40.334682Z"
    },
    "papermill": {
     "duration": 0.525804,
     "end_time": "2024-08-22T11:36:40.339164",
     "exception": false,
     "start_time": "2024-08-22T11:36:39.813360",
     "status": "completed"
    },
    "tags": []
   },
   "outputs": [],
   "source": [
    "data1 = df[(df['DateTime'] >= '2024-01-01') & (df['DateTime'] < '2024-04-01')]\n",
    "\n",
    "plt.figure(figsize=(20,6))\n",
    "plt.plot(data1['DateTime'], data1['Consumption'], color='Gold')\n",
    "plt.ylabel('Consumption', fontsize=12)\n",
    "plt.xlabel('DateTime', fontsize=12)\n",
    "plt.title('Electricity Consumption for a Particular Time Frame', fontsize=14)\n",
    "plt.tight_layout()\n",
    "plt.grid(True)\n",
    "sns.despine(bottom=True, left=True)\n",
    "plt.show()"
   ]
  },
  {
   "cell_type": "code",
   "execution_count": null,
   "id": "8a33e116",
   "metadata": {
    "execution": {
     "iopub.execute_input": "2024-08-22T11:36:40.496243Z",
     "iopub.status.busy": "2024-08-22T11:36:40.495483Z",
     "iopub.status.idle": "2024-08-22T11:36:40.913588Z",
     "shell.execute_reply": "2024-08-22T11:36:40.912678Z"
    },
    "papermill": {
     "duration": 0.499761,
     "end_time": "2024-08-22T11:36:40.916274",
     "exception": false,
     "start_time": "2024-08-22T11:36:40.416513",
     "status": "completed"
    },
    "tags": []
   },
   "outputs": [],
   "source": [
    "df1 = df.copy('Deep')\n",
    "df1= df1.set_index('DateTime')\n",
    "\n",
    "fig, ax = plt.subplots(figsize=(20,4)) # Create the figure and axes object\n",
    "\n",
    "fig.suptitle('Production Vs Consumption', fontsize=16)\n",
    "# Plot the first x and y axes:\n",
    "df1.resample('M').mean().plot.area(use_index=True, y = 'Consumption', ax = ax,color='Blue') \n",
    "df1.resample('M').mean().plot.area(use_index=True, y = 'Production', ax = ax, secondary_y = False,color='Red') ;"
   ]
  },
  {
   "cell_type": "code",
   "execution_count": null,
   "id": "7a1ef302",
   "metadata": {
    "execution": {
     "iopub.execute_input": "2024-08-22T11:36:41.078487Z",
     "iopub.status.busy": "2024-08-22T11:36:41.077826Z",
     "iopub.status.idle": "2024-08-22T11:36:42.845879Z",
     "shell.execute_reply": "2024-08-22T11:36:42.844971Z"
    },
    "papermill": {
     "duration": 1.851724,
     "end_time": "2024-08-22T11:36:42.849200",
     "exception": false,
     "start_time": "2024-08-22T11:36:40.997476",
     "status": "completed"
    },
    "tags": []
   },
   "outputs": [],
   "source": [
    "plt.rcParams[\"figure.figsize\"] = (15,8)\n",
    "from statsmodels.tsa.seasonal import seasonal_decompose\n",
    "decomp=seasonal_decompose(df1['Consumption'], model='additive', period=1)\n",
    "decomp.plot()\n",
    "plt.show()"
   ]
  },
  {
   "cell_type": "code",
   "execution_count": null,
   "id": "1170a4f5",
   "metadata": {
    "execution": {
     "iopub.execute_input": "2024-08-22T11:36:43.013706Z",
     "iopub.status.busy": "2024-08-22T11:36:43.012718Z",
     "iopub.status.idle": "2024-08-22T11:36:43.228571Z",
     "shell.execute_reply": "2024-08-22T11:36:43.227700Z"
    },
    "papermill": {
     "duration": 0.301179,
     "end_time": "2024-08-22T11:36:43.230694",
     "exception": false,
     "start_time": "2024-08-22T11:36:42.929515",
     "status": "completed"
    },
    "tags": []
   },
   "outputs": [],
   "source": [
    "df_con = df.copy('deep')\n",
    "df_con[\"DATE\"] = pd.to_datetime(df_con[\"DateTime\"]).dt.date\n",
    "df_con[\"TIME\"] = pd.to_datetime(df_con[\"DateTime\"]).dt.time\n",
    "df_con = df_con.set_index('DateTime')\n",
    "df_con = df_con[[\"Consumption\", \"Production\", \"Solar\",\"DATE\" , \"TIME\"]][\"2024-03-01 00:00:00\" : \"2024-03-30 23:59:59\"]\n",
    "df_con.head()"
   ]
  },
  {
   "cell_type": "code",
   "execution_count": null,
   "id": "6bfd5057",
   "metadata": {
    "execution": {
     "iopub.execute_input": "2024-08-22T11:36:43.392011Z",
     "iopub.status.busy": "2024-08-22T11:36:43.391378Z",
     "iopub.status.idle": "2024-08-22T11:36:43.873342Z",
     "shell.execute_reply": "2024-08-22T11:36:43.871799Z"
    },
    "papermill": {
     "duration": 0.565532,
     "end_time": "2024-08-22T11:36:43.876334",
     "exception": false,
     "start_time": "2024-08-22T11:36:43.310802",
     "status": "completed"
    },
    "tags": []
   },
   "outputs": [],
   "source": [
    "# Calculate daily consumption and production sums\n",
    "daily_consumption = df_con.groupby('DATE')['Consumption'].agg('sum')\n",
    "daily_production = df_con.groupby('DATE')['Production'].agg('sum')\n",
    "\n",
    "# Create the combined plot\n",
    "fig, ax = plt.subplots(figsize=(20, 5))  # Create figure and axis\n",
    "\n",
    "# Plot consumption (red) and production (blue) on the same axis\n",
    "ax.bar(daily_consumption.index, daily_consumption, color='red', label='Consumption')\n",
    "ax.bar(daily_production.index, daily_production, color='blue', label='Production', bottom=daily_consumption.values)  # Stack on top of consumption\n",
    "\n",
    "# Set labels, title, and legend\n",
    "ax.set_xlabel('Date')\n",
    "ax.set_ylabel('MW')\n",
    "plt.title('Daily Consumption and Production')\n",
    "plt.xticks(rotation=45, ha='right')  # Rotate x-axis labels for better readability (optional)\n",
    "plt.legend()\n",
    "plt.grid(False)  # Add grid lines for better readability (optional)\n",
    "plt.tight_layout()  # Adjust spacing to prevent overlapping elements (optional)\n",
    "\n",
    "plt.show()"
   ]
  },
  {
   "cell_type": "code",
   "execution_count": null,
   "id": "39cfdddf",
   "metadata": {
    "execution": {
     "iopub.execute_input": "2024-08-22T11:36:44.052755Z",
     "iopub.status.busy": "2024-08-22T11:36:44.051626Z",
     "iopub.status.idle": "2024-08-22T11:36:44.543769Z",
     "shell.execute_reply": "2024-08-22T11:36:44.542844Z"
    },
    "papermill": {
     "duration": 0.583013,
     "end_time": "2024-08-22T11:36:44.545879",
     "exception": false,
     "start_time": "2024-08-22T11:36:43.962866",
     "status": "completed"
    },
    "tags": []
   },
   "outputs": [],
   "source": [
    "daily_Consumption = df_con.groupby('DATE')['Consumption'].agg('sum')\n",
    "\n",
    "ax = daily_Consumption.sort_values(ascending=False).plot.bar(figsize=(20,5), legend=True,color='red')\n",
    "plt.title('Daily Consumption')\n",
    "plt.show()"
   ]
  },
  {
   "cell_type": "code",
   "execution_count": null,
   "id": "a3576da0",
   "metadata": {
    "execution": {
     "iopub.execute_input": "2024-08-22T11:36:44.714391Z",
     "iopub.status.busy": "2024-08-22T11:36:44.713797Z",
     "iopub.status.idle": "2024-08-22T11:36:44.881799Z",
     "shell.execute_reply": "2024-08-22T11:36:44.880809Z"
    },
    "papermill": {
     "duration": 0.254483,
     "end_time": "2024-08-22T11:36:44.883867",
     "exception": false,
     "start_time": "2024-08-22T11:36:44.629384",
     "status": "completed"
    },
    "tags": []
   },
   "outputs": [],
   "source": [
    "df_solar =  df.copy('deep')\n",
    "\n",
    "df_solar[\"DATE\"] = pd.to_datetime(df_solar[\"DateTime\"]).dt.date\n",
    "df_solar[\"TIME\"] = pd.to_datetime(df_solar[\"DateTime\"]).dt.time\n",
    "df_solar[\"DATE\"] = pd.to_datetime(df_solar[\"DateTime\"]).dt.date\n",
    "df_solar[\"DATE_STRING\"] = df_solar[\"DATE\"].astype(str) # add column with date as string\n",
    "\n",
    "df_solar.head()"
   ]
  },
  {
   "cell_type": "code",
   "execution_count": null,
   "id": "0076c411",
   "metadata": {
    "execution": {
     "iopub.execute_input": "2024-08-22T11:36:45.049375Z",
     "iopub.status.busy": "2024-08-22T11:36:45.049042Z",
     "iopub.status.idle": "2024-08-22T11:36:46.155998Z",
     "shell.execute_reply": "2024-08-22T11:36:46.155068Z"
    },
    "papermill": {
     "duration": 1.193469,
     "end_time": "2024-08-22T11:36:46.159197",
     "exception": false,
     "start_time": "2024-08-22T11:36:44.965728",
     "status": "completed"
    },
    "tags": []
   },
   "outputs": [],
   "source": [
    "import matplotlib.pyplot as plt\n",
    "import seaborn as sns\n",
    "\n",
    "# Assuming 'df_solar' has columns 'DateTime', 'Consumption', 'Production', 'Solar', and 'Wind'\n",
    "\n",
    "date = [\"2024-03-24\"]  # List of dates to filter\n",
    "\n",
    "# Filter data for the specified date(s)\n",
    "filtered_data = df_solar[df_solar[\"DATE_STRING\"].isin(date)]\n",
    "\n",
    "# Create the figure with desired size\n",
    "plt.figure(figsize=(20, 16))\n",
    "\n",
    "# Subplot 1: Consumption\n",
    "plt.subplot(411)\n",
    "sns.lineplot(data=filtered_data, x=\"DateTime\", y=\"Consumption\", label=\"Consumption\", color='green')\n",
    "plt.title(\"Consumption: {}\".format(date[0]))\n",
    "\n",
    "# Subplot 2: Production\n",
    "plt.subplot(412)\n",
    "sns.lineplot(data=filtered_data, x=\"DateTime\", y=\"Production\", label=\"Production\", color='green')\n",
    "plt.title(\"Production: {}\".format(date[0]))\n",
    "\n",
    "# Subplot 3: Solar & Wind\n",
    "plt.subplot(413)\n",
    "sns.lineplot(data=filtered_data, x=\"DateTime\", y=\"Solar\", label=\"Solar\", color='green')\n",
    "sns.lineplot(data=filtered_data, x=\"DateTime\", y=\"Wind\", label=\"Wind\", color='blue')\n",
    "plt.title(\"Solar & Wind Power Generation: {}\".format(date[0]))\n",
    "\n",
    "plt.tight_layout()\n",
    "plt.show()"
   ]
  },
  {
   "cell_type": "code",
   "execution_count": null,
   "id": "4a0b8a0f",
   "metadata": {
    "execution": {
     "iopub.execute_input": "2024-08-22T11:36:46.331561Z",
     "iopub.status.busy": "2024-08-22T11:36:46.330662Z",
     "iopub.status.idle": "2024-08-22T11:36:46.372423Z",
     "shell.execute_reply": "2024-08-22T11:36:46.371598Z"
    },
    "papermill": {
     "duration": 0.129073,
     "end_time": "2024-08-22T11:36:46.374459",
     "exception": false,
     "start_time": "2024-08-22T11:36:46.245386",
     "status": "completed"
    },
    "tags": []
   },
   "outputs": [],
   "source": [
    "df_con_pro = df_con.pivot_table(values=['Consumption', 'Production'], index='TIME', columns='DATE')\n",
    "df_con_pro.head()"
   ]
  },
  {
   "cell_type": "code",
   "execution_count": null,
   "id": "1a60c702",
   "metadata": {
    "execution": {
     "iopub.execute_input": "2024-08-22T11:36:46.546662Z",
     "iopub.status.busy": "2024-08-22T11:36:46.546308Z",
     "iopub.status.idle": "2024-08-22T11:36:54.009203Z",
     "shell.execute_reply": "2024-08-22T11:36:54.008225Z"
    },
    "papermill": {
     "duration": 7.561352,
     "end_time": "2024-08-22T11:36:54.022743",
     "exception": false,
     "start_time": "2024-08-22T11:36:46.461391",
     "status": "completed"
    },
    "tags": []
   },
   "outputs": [],
   "source": [
    "sns.set_theme(style=\"white\")\n",
    "df_con_pro = df_con.pivot_table(values=['Consumption', 'Production'], index='TIME', columns='DATE')\n",
    "\n",
    "def Daywise_plot(data=None, row=None, col=None, title='Electricity Consumption and Production', ylim_top=8000):\n",
    "    \"\"\"\n",
    "    Plots timeseries data for each column in a grid layout.\n",
    "\n",
    "    Args:\n",
    "        data: A pandas DataFrame containing the timeseries data.\n",
    "        row: Number of rows in the grid layout (optional).\n",
    "        col: Number of columns in the grid layout (optional).\n",
    "        title: Title for the overall plot (optional).\n",
    "        ylim_top: Upper limit for the y-axis (optional, default: 8000).\n",
    "    \"\"\"\n",
    "    cols = data.columns.levels[1]  # Get all column names\n",
    "\n",
    "    # Create the figure with desired size\n",
    "    gp = plt.figure(figsize=(20, 40))\n",
    "\n",
    "    # Adjust spacing between subplots\n",
    "    gp.subplots_adjust(wspace=0.2, hspace=0.5)\n",
    "\n",
    "    for i in range(1, len(cols) + 1):\n",
    "        ax = gp.add_subplot(row, col, i)\n",
    "        data['Consumption', cols[i - 1]].plot(ax=ax, color='red', label='Consumption')\n",
    "        data['Production', cols[i - 1]].plot(ax=ax, color='blue', label='Production')\n",
    "\n",
    "        # Set title and y-axis limit for each subplot\n",
    "        ax.set_title('{} {}'.format(title, cols[i - 1]), color='#800000')\n",
    "        ax.set_ylim(4000, 9000)  # Update y-axis limit to 4000-8000\n",
    "        ax.legend()  # Show legend\n",
    "\n",
    "    # Display the plot\n",
    "    plt.show()\n",
    "\n",
    "# Call the function with desired parameters and new y-axis limit\n",
    "Daywise_plot(data=df_con_pro, row=12, col=3, ylim_top=8000)\n",
    "plt.tight_layout()\n",
    "plt.show()"
   ]
  },
  {
   "cell_type": "markdown",
   "id": "d16c82f6",
   "metadata": {
    "papermill": {
     "duration": 0.097271,
     "end_time": "2024-08-22T11:36:54.241481",
     "exception": false,
     "start_time": "2024-08-22T11:36:54.144210",
     "status": "completed"
    },
    "tags": []
   },
   "source": [
    "<h3 style=\"color:blue;\">Timeseries visualization of electricity consumption and generation for the entire month of March 2024, with the units on the y-axis labeled as MW (Megawatts). </h3>"
   ]
  },
  {
   "cell_type": "markdown",
   "id": "8e0387dc",
   "metadata": {
    "papermill": {
     "duration": 0.09682,
     "end_time": "2024-08-22T11:36:54.433246",
     "exception": false,
     "start_time": "2024-08-22T11:36:54.336426",
     "status": "completed"
    },
    "tags": []
   },
   "source": [
    "<p style=\"font-size:140%; color: #c71585; font-family: Comic Sans MS; line-height: 1.4;\">\n",
    "1. Red Line: This line represents the electricity consumption trend over the month. It appears to fluctuate, potentially indicating higher consumption during daytime hours and lower consumption at night.\n",
    "</p>\n",
    "\n",
    "<p style=\"font-size:140%; color: #c71585; font-family: Comic Sans MS; line-height: 1.4;\">\n",
    "2. Blue Line: This line represents the electricity generation trend over the month. It also seems to fluctuate, and it's possible that the generation may not always keep up with consumption (indicated by the red line going above the blue line in some areas).\n",
    "</p>\n"
   ]
  },
  {
   "cell_type": "code",
   "execution_count": null,
   "id": "89aa699f",
   "metadata": {
    "execution": {
     "iopub.execute_input": "2024-08-22T11:36:54.626405Z",
     "iopub.status.busy": "2024-08-22T11:36:54.626079Z",
     "iopub.status.idle": "2024-08-22T11:37:01.606321Z",
     "shell.execute_reply": "2024-08-22T11:37:01.605471Z"
    },
    "papermill": {
     "duration": 7.084579,
     "end_time": "2024-08-22T11:37:01.613573",
     "exception": false,
     "start_time": "2024-08-22T11:36:54.528994",
     "status": "completed"
    },
    "tags": []
   },
   "outputs": [],
   "source": [
    "plt.style.use('fivethirtyeight')\n",
    "df_con_pro = df_con.pivot_table(values=['Solar'], index='TIME', columns='DATE')\n",
    "\n",
    "def Daywise_plot(data=None, row=None, col=None, title='Solar Power Generation', ylim_top=1000):\n",
    "    \"\"\"\n",
    "    Plots timeseries data for each column in a grid layout.\n",
    "\n",
    "    Args:\n",
    "        data: A pandas DataFrame containing the timeseries data.\n",
    "        row: Number of rows in the grid layout (optional).\n",
    "        col: Number of columns in the grid layout (optional).\n",
    "        title: Title for the overall plot (optional).\n",
    "        ylim_top: Upper limit for the y-axis (optional, default: 8000).\n",
    "    \"\"\"\n",
    "    cols = data.columns.levels[1]  # Get all column names\n",
    "\n",
    "    # Create the figure with desired size\n",
    "    gp = plt.figure(figsize=(20, 40))\n",
    "\n",
    "    # Adjust spacing between subplots\n",
    "    gp.subplots_adjust(wspace=0.2, hspace=0.5)\n",
    "\n",
    "    for i in range(1, len(cols) + 1):\n",
    "        ax = gp.add_subplot(row, col, i)\n",
    "        data['Solar', cols[i - 1]].plot(ax=ax, color='red', label='Solar')\n",
    "        \n",
    "        # Set title and y-axis limit for each subplot\n",
    "        ax.set_title('{} {}'.format(title, cols[i - 1]), color='#800000')\n",
    "        ax.set_ylim(0, 1000)  # Update y-axis limit to 4000-8000\n",
    "        ax.legend()  # Show legend\n",
    "\n",
    "    # Display the plot\n",
    "    plt.show()\n",
    "    \n",
    "# Call the function with desired parameters and new y-axis limit\n",
    "Daywise_plot(data=df_con_pro, row=12, col=3, ylim_top=1000)"
   ]
  },
  {
   "cell_type": "code",
   "execution_count": null,
   "id": "1b69b623",
   "metadata": {
    "execution": {
     "iopub.execute_input": "2024-08-22T11:37:01.826652Z",
     "iopub.status.busy": "2024-08-22T11:37:01.826013Z",
     "iopub.status.idle": "2024-08-22T11:37:04.313241Z",
     "shell.execute_reply": "2024-08-22T11:37:04.312308Z"
    },
    "papermill": {
     "duration": 2.598785,
     "end_time": "2024-08-22T11:37:04.318939",
     "exception": false,
     "start_time": "2024-08-22T11:37:01.720154",
     "status": "completed"
    },
    "tags": []
   },
   "outputs": [],
   "source": [
    "from statsmodels.tsa.seasonal import seasonal_decompose\n",
    "\n",
    "def seasonal_decompose_plotter(df: pd.DataFrame, period=12, title='', figsize=(20, 12)):\n",
    "    \"\"\"\n",
    "    Perform and plot seasonal decomposition of a time series.\n",
    "\n",
    "    Parameters:\n",
    "        df: DataFrame with time series data.\n",
    "        col: Column name for data to decompose. Default is 'sqrt(O3 AQI)'.\n",
    "        date_col: Column name for datetime values. Default is 'Date'.\n",
    "        period: Seasonality period. Default is 12.\n",
    "\n",
    "    Returns:\n",
    "        A DecomposeResult object with seasonal, trend, and residual components.\n",
    "    \"\"\"\n",
    "    # Decompostion\n",
    "    decomposition = seasonal_decompose(df.values, period=period)\n",
    "    de_season = decomposition.seasonal\n",
    "    de_resid = decomposition.resid\n",
    "    de_trend = decomposition.trend\n",
    "\n",
    "    fig, ax = plt.subplots(4, sharex=True, figsize=figsize)\n",
    "\n",
    "    ax[0].set_title(title)\n",
    "    ax[0].plot(df.index, df.values, color='C3')\n",
    "    ax[0].set_ylabel(df.keys()[0])\n",
    "    ax[0].grid(alpha=0.25)\n",
    "    \n",
    "    ax[1].plot(df.index, de_trend, color='C1')\n",
    "    ax[1].set_ylabel('Trend')\n",
    "    ax[1].grid(alpha=0.25)\n",
    "    \n",
    "    ax[2].plot(df.index, de_season, color='C2')\n",
    "    ax[2].set_ylabel('Seasonal')\n",
    "    ax[2].grid(alpha=0.25)\n",
    "\n",
    "    ax[3].axhline(y=0, color='k', linewidth=1)\n",
    "    ax[3].scatter(df.index, de_resid, color='C0', s=10)\n",
    "    ax[3].set_ylabel('Resid')\n",
    "    ax[3].grid(alpha=0.25)\n",
    "    \n",
    "    plt.tight_layout(h_pad=0)\n",
    "    plt.show()\n",
    "    \n",
    "    return decomposition\n",
    "\n",
    "data1 = df[['DateTime','Consumption']].copy(\"deep\")\n",
    "data1 = data1.set_index('DateTime')\n",
    "\n",
    "_ = seasonal_decompose_plotter(data1['Consumption'], period=365*12, title='Eastern Power Consumption', figsize=(20, 12))"
   ]
  },
  {
   "cell_type": "code",
   "execution_count": 42,
   "id": "fe5557db",
   "metadata": {
    "execution": {
     "iopub.execute_input": "2024-08-22T11:37:04.545373Z",
     "iopub.status.busy": "2024-08-22T11:37:04.544522Z",
     "iopub.status.idle": "2024-08-22T11:37:04.551372Z",
     "shell.execute_reply": "2024-08-22T11:37:04.550496Z"
    },
    "papermill": {
     "duration": 0.120978,
     "end_time": "2024-08-22T11:37:04.553369",
     "exception": false,
     "start_time": "2024-08-22T11:37:04.432391",
     "status": "completed"
    },
    "tags": []
   },
   "outputs": [],
   "source": [
    "data = df.copy(\"deep\")\n",
    "data = data.set_index('DateTime')"
   ]
  },
  {
   "cell_type": "code",
   "execution_count": null,
   "id": "d5621a80",
   "metadata": {
    "execution": {
     "iopub.execute_input": "2024-08-22T11:37:04.780926Z",
     "iopub.status.busy": "2024-08-22T11:37:04.780078Z",
     "iopub.status.idle": "2024-08-22T11:37:05.532281Z",
     "shell.execute_reply": "2024-08-22T11:37:05.531376Z"
    },
    "papermill": {
     "duration": 0.869139,
     "end_time": "2024-08-22T11:37:05.535060",
     "exception": false,
     "start_time": "2024-08-22T11:37:04.665921",
     "status": "completed"
    },
    "tags": []
   },
   "outputs": [],
   "source": [
    "plt.figure(figsize=(20,6))\n",
    "plt.plot(data.index,data['Consumption'], 'b')\n",
    "plt.plot(data.index,data['Production'], 'y')\n",
    "plt.title('Power Production vs Consumption over time')\n",
    "plt.xlabel('Date')\n",
    "plt.ylabel('MW')\n",
    "plt.show()"
   ]
  },
  {
   "cell_type": "code",
   "execution_count": null,
   "id": "915f11e4",
   "metadata": {
    "execution": {
     "iopub.execute_input": "2024-08-22T11:37:05.771613Z",
     "iopub.status.busy": "2024-08-22T11:37:05.770812Z",
     "iopub.status.idle": "2024-08-22T11:37:09.635403Z",
     "shell.execute_reply": "2024-08-22T11:37:09.634511Z"
    },
    "papermill": {
     "duration": 3.98788,
     "end_time": "2024-08-22T11:37:09.638784",
     "exception": false,
     "start_time": "2024-08-22T11:37:05.650904",
     "status": "completed"
    },
    "tags": []
   },
   "outputs": [],
   "source": [
    "import matplotlib.pyplot as plt\n",
    "from matplotlib.dates import MonthLocator, DateFormatter\n",
    "\n",
    "# Assuming your data is in a pandas DataFrame named 'data'\n",
    "\n",
    "# Plot for Consumption\n",
    "ax = data.plot(figsize=(20, 5), use_index=True, grid=True,\n",
    "               y='Consumption',\n",
    "               title='Energy Consumption in MWs Unit',\n",
    "               ylim=([4000, 10000]),\n",
    "               xlim=([data.index[0], data.index[-1]]),\n",
    "               style='b-')\n",
    "\n",
    "# Set x-axis labels with monthly formatting\n",
    "ax.set_xticklabels(data.index, rotation=0, ha='center')\n",
    "ax.xaxis.set_major_locator(MonthLocator(bymonth=(1, 4, 7, 10)))\n",
    "ax.xaxis.set_major_formatter(DateFormatter('%b\\n%Y'))\n",
    "\n",
    "plt.show()\n",
    "\n",
    "# Plot for Production (assuming 'Nuclear' etc. are columns in data)\n",
    "ay = data.plot(figsize=(20, 5), use_index=True, grid=True,\n",
    "               y=['Nuclear', 'Wind', 'Hydroelectric', 'Oil and Gas', 'Coal', 'Solar', 'Biomass'],\n",
    "               title='Energy Production in MWs Unit',\n",
    "               ylim=([0, 5000]),\n",
    "               xlim=([data.index[0], data.index[-1]]))\n",
    "\n",
    "# Set x-axis labels with monthly formatting\n",
    "ay.set_xticklabels(data.index, rotation=0, ha='center')\n",
    "ay.xaxis.set_major_locator(MonthLocator(bymonth=(1, 4, 7, 10)))\n",
    "ay.xaxis.set_major_formatter(DateFormatter('%b\\n%Y'))\n",
    "\n",
    "plt.show()"
   ]
  },
  {
   "cell_type": "code",
   "execution_count": null,
   "id": "9d775b0a",
   "metadata": {
    "execution": {
     "iopub.execute_input": "2024-08-22T11:37:09.879381Z",
     "iopub.status.busy": "2024-08-22T11:37:09.879040Z",
     "iopub.status.idle": "2024-08-22T11:37:10.681489Z",
     "shell.execute_reply": "2024-08-22T11:37:10.680685Z"
    },
    "papermill": {
     "duration": 0.928009,
     "end_time": "2024-08-22T11:37:10.686218",
     "exception": false,
     "start_time": "2024-08-22T11:37:09.758209",
     "status": "completed"
    },
    "tags": []
   },
   "outputs": [],
   "source": [
    "ax = data.plot(figsize=(20,5),use_index=True,grid=False,\n",
    "               y='Consumption',\n",
    "               title='2023 Energy Consumption in MWs Unit',\n",
    "               ylim=([4000,10000]),\n",
    "               xlim=([pd.Timestamp('2020-01-01'),pd.Timestamp('2021-01-01')]),\n",
    "               style='b.-',lw=0.3)\n",
    "\n",
    "ax.set_xticklabels(data.index,rotation=0,ha='center')\n",
    "ax.xaxis.set_major_locator(MonthLocator(interval=2))\n",
    "ax.xaxis.set_major_formatter(DateFormatter('%b\\n%Y'))\n",
    "\n",
    "plt.show()"
   ]
  },
  {
   "cell_type": "code",
   "execution_count": null,
   "id": "9397136b",
   "metadata": {
    "execution": {
     "iopub.execute_input": "2024-08-22T11:37:10.938784Z",
     "iopub.status.busy": "2024-08-22T11:37:10.938405Z",
     "iopub.status.idle": "2024-08-22T11:37:18.151153Z",
     "shell.execute_reply": "2024-08-22T11:37:18.150204Z"
    },
    "papermill": {
     "duration": 7.341955,
     "end_time": "2024-08-22T11:37:18.153848",
     "exception": false,
     "start_time": "2024-08-22T11:37:10.811893",
     "status": "completed"
    },
    "tags": []
   },
   "outputs": [],
   "source": [
    "production_types = list(data.columns)  # Get all columns from index 2 onwards (skipping the first two)\n",
    "\n",
    "# Dictionary of production type and color mapping\n",
    "colors = {'Consumption' : 'Red', 'Production' : 'Green' , 'Nuclear': 'orange', 'Wind': 'aquamarine', 'Hydroelectric': 'b',\n",
    "          'Oil and Gas': 'saddlebrown', 'Coal': 'black', 'Solar': 'y', 'Biomass': 'crimson'}\n",
    "\n",
    "# Loop through production types and create separate plots\n",
    "for prType in production_types:\n",
    "    plt.figure(figsize=(20, 5))  # Adjust figure size as desired\n",
    "    plt.plot(data.index, data[prType], color=colors[prType], label=prType)  # Add label\n",
    "    plt.title(f\"{prType} Power Production Over Time\")\n",
    "    plt.xlabel(\"Date\")\n",
    "    plt.ylabel(\"MW\")\n",
    "    plt.legend()  # Add legend to identify each line\n",
    "    plt.grid(True)  # Add grid lines for better readability (optional)\n",
    "    plt.tight_layout()  # Adjust spacing to prevent overlapping elements (optional)\n",
    "    plt.show()"
   ]
  },
  {
   "cell_type": "code",
   "execution_count": null,
   "id": "478e6ed3",
   "metadata": {
    "execution": {
     "iopub.execute_input": "2024-08-22T11:37:18.439149Z",
     "iopub.status.busy": "2024-08-22T11:37:18.438308Z",
     "iopub.status.idle": "2024-08-22T11:37:18.455086Z",
     "shell.execute_reply": "2024-08-22T11:37:18.454141Z"
    },
    "papermill": {
     "duration": 0.160955,
     "end_time": "2024-08-22T11:37:18.456980",
     "exception": false,
     "start_time": "2024-08-22T11:37:18.296025",
     "status": "completed"
    },
    "tags": []
   },
   "outputs": [],
   "source": [
    "df3 = df_solar[['DateTime','Consumption','Production']]\n",
    "\n",
    "df3 = df3.set_index('DateTime')\n",
    "daily_data = df3.resample('24h').mean()\n",
    "display(daily_data.head(2))"
   ]
  },
  {
   "cell_type": "code",
   "execution_count": null,
   "id": "d4cb40f0",
   "metadata": {
    "execution": {
     "iopub.execute_input": "2024-08-22T11:37:18.742052Z",
     "iopub.status.busy": "2024-08-22T11:37:18.741183Z",
     "iopub.status.idle": "2024-08-22T11:37:19.496538Z",
     "shell.execute_reply": "2024-08-22T11:37:19.495663Z"
    },
    "papermill": {
     "duration": 0.902427,
     "end_time": "2024-08-22T11:37:19.500418",
     "exception": false,
     "start_time": "2024-08-22T11:37:18.597991",
     "status": "completed"
    },
    "tags": []
   },
   "outputs": [],
   "source": [
    "fig, ax1 = plt.subplots(figsize=(20,6))\n",
    "ax1.plot(daily_data.index, daily_data['Consumption'], 'b', label='Consumption')\n",
    "ax1.set_xlabel('Date')\n",
    "ax1.set_ylabel('Consumption MW', color='b')\n",
    "ax1.tick_params('y', colors='b')\n",
    "\n",
    "ax2 = ax1.twinx()\n",
    "\n",
    "ax2.plot(daily_data.index, daily_data['Production'], 'r', label='Production')\n",
    "ax2.set_ylabel('Production MW', color='r')\n",
    "ax2.tick_params('y', colors='r')\n",
    "\n",
    "lines1, labels1 = ax1.get_legend_handles_labels()\n",
    "lines2, labels2 = ax2.get_legend_handles_labels()\n",
    "lines = lines1 + lines2\n",
    "labels = labels1 + labels2\n",
    "ax1.legend(lines, labels, loc='upper right')\n",
    "plt.show()"
   ]
  },
  {
   "cell_type": "code",
   "execution_count": null,
   "id": "32bd057a",
   "metadata": {
    "execution": {
     "iopub.execute_input": "2024-08-22T11:37:19.796498Z",
     "iopub.status.busy": "2024-08-22T11:37:19.795585Z",
     "iopub.status.idle": "2024-08-22T11:37:21.821044Z",
     "shell.execute_reply": "2024-08-22T11:37:21.820169Z"
    },
    "papermill": {
     "duration": 2.181374,
     "end_time": "2024-08-22T11:37:21.827202",
     "exception": false,
     "start_time": "2024-08-22T11:37:19.645828",
     "status": "completed"
    },
    "tags": []
   },
   "outputs": [],
   "source": [
    "#group data by week\n",
    "groups = df_con['Consumption'].groupby(pd.Grouper(freq='W'))\n",
    "\n",
    "#set figure and axis\n",
    "fig, axs = plt.subplots(len(groups), 1, figsize=(20,30))\n",
    "for ax, (name, group) in zip(axs, groups):\n",
    "    \n",
    "    #plot the data\n",
    "    ax.plot(pd.Series(group.values))\n",
    "\n",
    "    ax.set_xlabel('Hour of Year')\n",
    "    ax.set_ylabel('Consumption')\n",
    "    ax.set_title(name.week)\n",
    "    plt.subplots_adjust(hspace=0.5)"
   ]
  },
  {
   "cell_type": "markdown",
   "id": "e935ca40",
   "metadata": {
    "papermill": {
     "duration": 0.153024,
     "end_time": "2024-08-22T11:37:22.133354",
     "exception": false,
     "start_time": "2024-08-22T11:37:21.980330",
     "status": "completed"
    },
    "tags": []
   },
   "source": [
    "# Power Consumption by Day of the Week"
   ]
  },
  {
   "cell_type": "code",
   "execution_count": null,
   "id": "5bff670e",
   "metadata": {
    "execution": {
     "iopub.execute_input": "2024-08-22T11:37:22.444735Z",
     "iopub.status.busy": "2024-08-22T11:37:22.444354Z",
     "iopub.status.idle": "2024-08-22T11:37:22.456399Z",
     "shell.execute_reply": "2024-08-22T11:37:22.455450Z"
    },
    "papermill": {
     "duration": 0.168558,
     "end_time": "2024-08-22T11:37:22.458379",
     "exception": false,
     "start_time": "2024-08-22T11:37:22.289821",
     "status": "completed"
    },
    "tags": []
   },
   "outputs": [],
   "source": [
    "df6 = df[['DateTime','Consumption','Production']]\n",
    "df6 = df6.set_index('DateTime')\n",
    "df6.head()"
   ]
  },
  {
   "cell_type": "code",
   "execution_count": null,
   "id": "482a0ffe",
   "metadata": {
    "execution": {
     "iopub.execute_input": "2024-08-22T11:37:22.769921Z",
     "iopub.status.busy": "2024-08-22T11:37:22.769553Z",
     "iopub.status.idle": "2024-08-22T11:37:22.808594Z",
     "shell.execute_reply": "2024-08-22T11:37:22.807745Z"
    },
    "papermill": {
     "duration": 0.197703,
     "end_time": "2024-08-22T11:37:22.810734",
     "exception": false,
     "start_time": "2024-08-22T11:37:22.613031",
     "status": "completed"
    },
    "tags": []
   },
   "outputs": [],
   "source": [
    "df6['Day'] = df6.index.day\n",
    "df6['Year'] = df6.index.year\n",
    "df6['Month'] = df6.index.month_name()\n",
    "df6['WeekDay'] = df6.index.day_name()\n",
    "df6.head()"
   ]
  },
  {
   "cell_type": "code",
   "execution_count": null,
   "id": "c201cc0f",
   "metadata": {
    "execution": {
     "iopub.execute_input": "2024-08-22T11:37:23.125062Z",
     "iopub.status.busy": "2024-08-22T11:37:23.124712Z",
     "iopub.status.idle": "2024-08-22T11:37:23.148791Z",
     "shell.execute_reply": "2024-08-22T11:37:23.147211Z"
    },
    "papermill": {
     "duration": 0.184365,
     "end_time": "2024-08-22T11:37:23.150784",
     "exception": false,
     "start_time": "2024-08-22T11:37:22.966419",
     "status": "completed"
    },
    "tags": []
   },
   "outputs": [],
   "source": [
    "dfbyDay = df6.drop('Month',axis=1).groupby('WeekDay').mean()\n",
    "dfbyDay.head()"
   ]
  },
  {
   "cell_type": "code",
   "execution_count": null,
   "id": "ef468f14",
   "metadata": {
    "execution": {
     "iopub.execute_input": "2024-08-22T11:37:23.471443Z",
     "iopub.status.busy": "2024-08-22T11:37:23.471082Z",
     "iopub.status.idle": "2024-08-22T11:37:23.813447Z",
     "shell.execute_reply": "2024-08-22T11:37:23.812478Z"
    },
    "papermill": {
     "duration": 0.507859,
     "end_time": "2024-08-22T11:37:23.815677",
     "exception": false,
     "start_time": "2024-08-22T11:37:23.307818",
     "status": "completed"
    },
    "tags": []
   },
   "outputs": [],
   "source": [
    "plt.figure(figsize=(20,4))\n",
    "plt.plot(dfbyDay.index, dfbyDay['Consumption'], 'Red')\n",
    "plt.plot(dfbyDay.index, dfbyDay['Production'], 'Green')\n",
    "plt.xlabel('Power Consumption and Porduction to Day of the Week')\n",
    "plt.ylabel('MW')\n",
    "plt.legend(['Consumption','Production'])\n",
    "plt.show()"
   ]
  },
  {
   "cell_type": "markdown",
   "id": "f23349bc",
   "metadata": {
    "papermill": {
     "duration": 0.171669,
     "end_time": "2024-08-22T11:37:24.146862",
     "exception": false,
     "start_time": "2024-08-22T11:37:23.975193",
     "status": "completed"
    },
    "tags": []
   },
   "source": [
    "# Power Consumption by Month"
   ]
  },
  {
   "cell_type": "code",
   "execution_count": null,
   "id": "f8688007",
   "metadata": {
    "execution": {
     "iopub.execute_input": "2024-08-22T11:37:24.460128Z",
     "iopub.status.busy": "2024-08-22T11:37:24.459775Z",
     "iopub.status.idle": "2024-08-22T11:37:24.481790Z",
     "shell.execute_reply": "2024-08-22T11:37:24.480833Z"
    },
    "papermill": {
     "duration": 0.180129,
     "end_time": "2024-08-22T11:37:24.483705",
     "exception": false,
     "start_time": "2024-08-22T11:37:24.303576",
     "status": "completed"
    },
    "tags": []
   },
   "outputs": [],
   "source": [
    "dfbyMonth = df6.drop('WeekDay',axis=1).groupby('Month').mean()\n",
    "dfbyMonth.head()"
   ]
  },
  {
   "cell_type": "code",
   "execution_count": null,
   "id": "6e1587db",
   "metadata": {
    "execution": {
     "iopub.execute_input": "2024-08-22T11:37:24.819020Z",
     "iopub.status.busy": "2024-08-22T11:37:24.818568Z",
     "iopub.status.idle": "2024-08-22T11:37:25.265591Z",
     "shell.execute_reply": "2024-08-22T11:37:25.264705Z"
    },
    "papermill": {
     "duration": 0.629248,
     "end_time": "2024-08-22T11:37:25.269533",
     "exception": false,
     "start_time": "2024-08-22T11:37:24.640285",
     "status": "completed"
    },
    "tags": []
   },
   "outputs": [],
   "source": [
    "plt.figure(figsize=(20,5))\n",
    "plt.plot(dfbyMonth.index, dfbyMonth['Consumption'], 'Red')\n",
    "plt.plot(dfbyMonth.index, dfbyMonth['Production'], 'Green')\n",
    "plt.xlabel('Power Consumption and Porduction to Month')\n",
    "plt.ylabel('MW')\n",
    "plt.legend(['Consumption','Production'])\n",
    "plt.show()"
   ]
  },
  {
   "cell_type": "markdown",
   "id": "3d83e91e",
   "metadata": {
    "papermill": {
     "duration": 0.162183,
     "end_time": "2024-08-22T11:37:25.593088",
     "exception": false,
     "start_time": "2024-08-22T11:37:25.430905",
     "status": "completed"
    },
    "tags": []
   },
   "source": [
    "# Electricity Consumption and Production"
   ]
  },
  {
   "cell_type": "code",
   "execution_count": null,
   "id": "0a8e8875",
   "metadata": {
    "execution": {
     "iopub.execute_input": "2024-08-22T11:37:25.919596Z",
     "iopub.status.busy": "2024-08-22T11:37:25.919239Z",
     "iopub.status.idle": "2024-08-22T11:38:30.263467Z",
     "shell.execute_reply": "2024-08-22T11:38:30.262547Z"
    },
    "papermill": {
     "duration": 64.670811,
     "end_time": "2024-08-22T11:38:30.424934",
     "exception": false,
     "start_time": "2024-08-22T11:37:25.754123",
     "status": "completed"
    },
    "tags": []
   },
   "outputs": [],
   "source": [
    "%%time\n",
    "# add a new column for the delta\n",
    "df6[\"delta\"] = df6[\"Production\"] - df6[\"Consumption\"]\n",
    "\n",
    "plt.rcParams[\"figure.figsize\"] = (20,5)\n",
    "\n",
    "plt.bar(\n",
    "    df6.index, df6['delta'],\n",
    "    color=np.where(df6['delta'] > 0, 'Red', 'Green')\n",
    ")\n",
    "\n",
    "plt.title(\"Exports and imports of electricity, in MW\")\n",
    "plt.ylabel('MW')\n",
    "plt.show()\n",
    "\n",
    "# drop the column we have used for the delta\n",
    "df6.drop([\"delta\"], axis=1, inplace=True)"
   ]
  },
  {
   "cell_type": "markdown",
   "id": "22c042cb",
   "metadata": {
    "papermill": {
     "duration": 0.159854,
     "end_time": "2024-08-22T11:38:30.744265",
     "exception": false,
     "start_time": "2024-08-22T11:38:30.584411",
     "status": "completed"
    },
    "tags": []
   },
   "source": [
    "# Specific time Electricity Production and Consumption"
   ]
  },
  {
   "cell_type": "code",
   "execution_count": null,
   "id": "72507b71",
   "metadata": {
    "execution": {
     "iopub.execute_input": "2024-08-22T11:38:31.066100Z",
     "iopub.status.busy": "2024-08-22T11:38:31.065753Z",
     "iopub.status.idle": "2024-08-22T11:38:32.193547Z",
     "shell.execute_reply": "2024-08-22T11:38:32.192703Z"
    },
    "papermill": {
     "duration": 1.292057,
     "end_time": "2024-08-22T11:38:32.196210",
     "exception": false,
     "start_time": "2024-08-22T11:38:30.904153",
     "status": "completed"
    },
    "tags": []
   },
   "outputs": [],
   "source": [
    "dfYear = df6[\"2022-01-01 00:00:00\" : \"2022-12-31 23:59:59\"]\n",
    "productionTypes = ['Consumption', 'Production']\n",
    "\n",
    "colorMap = {\"Consumption\":\"r\", \"Production\":\"c\"}\n",
    "\n",
    "for productionType in productionTypes:\n",
    "    dfYear[[productionType]].plot(style=\"-\", figsize=(15, 5), title=f\"{productionType} Electricity Production, in MW\", color=colorMap.get(productionType))\n",
    "    plt.ylabel('MW')\n",
    "    plt.show()"
   ]
  },
  {
   "cell_type": "markdown",
   "id": "e0a38d29",
   "metadata": {
    "papermill": {
     "duration": 0.167151,
     "end_time": "2024-08-22T11:38:32.529352",
     "exception": false,
     "start_time": "2024-08-22T11:38:32.362201",
     "status": "completed"
    },
    "tags": []
   },
   "source": [
    "# Specific features and Specific date plot "
   ]
  },
  {
   "cell_type": "code",
   "execution_count": null,
   "id": "d615ebca",
   "metadata": {
    "execution": {
     "iopub.execute_input": "2024-08-22T11:38:32.863254Z",
     "iopub.status.busy": "2024-08-22T11:38:32.862906Z",
     "iopub.status.idle": "2024-08-22T11:38:32.875397Z",
     "shell.execute_reply": "2024-08-22T11:38:32.874553Z"
    },
    "papermill": {
     "duration": 0.181741,
     "end_time": "2024-08-22T11:38:32.877424",
     "exception": false,
     "start_time": "2024-08-22T11:38:32.695683",
     "status": "completed"
    },
    "tags": []
   },
   "outputs": [],
   "source": [
    "df7 = df[['DateTime','Consumption','Production',\"Hydroelectric\", \"Wind\", \"Solar\"]]\n",
    "df7 = df7.set_index('DateTime')\n",
    "df7.head()"
   ]
  },
  {
   "cell_type": "code",
   "execution_count": null,
   "id": "61a46fe5",
   "metadata": {
    "execution": {
     "iopub.execute_input": "2024-08-22T11:38:33.203480Z",
     "iopub.status.busy": "2024-08-22T11:38:33.203133Z",
     "iopub.status.idle": "2024-08-22T11:38:33.885419Z",
     "shell.execute_reply": "2024-08-22T11:38:33.884381Z"
    },
    "papermill": {
     "duration": 0.849066,
     "end_time": "2024-08-22T11:38:33.889844",
     "exception": false,
     "start_time": "2024-08-22T11:38:33.040778",
     "status": "completed"
    },
    "tags": []
   },
   "outputs": [],
   "source": [
    "df_winter = df7[[\"Hydroelectric\", \"Wind\", \"Solar\"]][\"2024-01-01\" : \"2024-03-31\"]\n",
    "df_winter.plot(style=\"-\", figsize=(20, 6), title=f\"Renewable Electricity Production, in MW\")\n",
    "plt.ylabel('MW')\n",
    "plt.show()"
   ]
  },
  {
   "cell_type": "markdown",
   "id": "d7985fe4",
   "metadata": {
    "papermill": {
     "duration": 0.177407,
     "end_time": "2024-08-22T11:38:34.244208",
     "exception": false,
     "start_time": "2024-08-22T11:38:34.066801",
     "status": "completed"
    },
    "tags": []
   },
   "source": [
    "# Specific Date Plot"
   ]
  },
  {
   "cell_type": "code",
   "execution_count": null,
   "id": "3119cc29",
   "metadata": {
    "execution": {
     "iopub.execute_input": "2024-08-22T11:38:34.589860Z",
     "iopub.status.busy": "2024-08-22T11:38:34.589481Z",
     "iopub.status.idle": "2024-08-22T11:38:35.188632Z",
     "shell.execute_reply": "2024-08-22T11:38:35.187631Z"
    },
    "papermill": {
     "duration": 0.773417,
     "end_time": "2024-08-22T11:38:35.190588",
     "exception": false,
     "start_time": "2024-08-22T11:38:34.417171",
     "status": "completed"
    },
    "tags": []
   },
   "outputs": [],
   "source": [
    "df_2023 = df7[\"Consumption\"][(df7[\"Consumption\"].index >= '2023-01-01') & (df7[\"Consumption\"].index < '2023-12-31')]\n",
    "df_2023.plot(figsize=(20,5), lw=3,color = '#FA8072')\n",
    "plt.title('Energy consumption in Watt-hours (Wh)', weight='bold', fontsize=25,color = '#DE3163');  "
   ]
  },
  {
   "cell_type": "markdown",
   "id": "8602eb77",
   "metadata": {
    "papermill": {
     "duration": 0.170997,
     "end_time": "2024-08-22T11:38:35.532157",
     "exception": false,
     "start_time": "2024-08-22T11:38:35.361160",
     "status": "completed"
    },
    "tags": []
   },
   "source": [
    "# Moving Average"
   ]
  },
  {
   "cell_type": "code",
   "execution_count": null,
   "id": "594d2af5",
   "metadata": {
    "execution": {
     "iopub.execute_input": "2024-08-22T11:38:35.883883Z",
     "iopub.status.busy": "2024-08-22T11:38:35.883359Z",
     "iopub.status.idle": "2024-08-22T11:38:36.501524Z",
     "shell.execute_reply": "2024-08-22T11:38:36.500589Z"
    },
    "papermill": {
     "duration": 0.796973,
     "end_time": "2024-08-22T11:38:36.503789",
     "exception": false,
     "start_time": "2024-08-22T11:38:35.706816",
     "status": "completed"
    },
    "tags": []
   },
   "outputs": [],
   "source": [
    "# Simple Moving Average \n",
    "df7[\"Consumption\"].expanding().mean().plot(figsize=(20,5));"
   ]
  },
  {
   "cell_type": "code",
   "execution_count": null,
   "id": "af9e76d9",
   "metadata": {
    "execution": {
     "iopub.execute_input": "2024-08-22T11:38:36.849169Z",
     "iopub.status.busy": "2024-08-22T11:38:36.848061Z",
     "iopub.status.idle": "2024-08-22T11:38:37.613304Z",
     "shell.execute_reply": "2024-08-22T11:38:37.612393Z"
    },
    "papermill": {
     "duration": 0.941996,
     "end_time": "2024-08-22T11:38:37.616998",
     "exception": false,
     "start_time": "2024-08-22T11:38:36.675002",
     "status": "completed"
    },
    "tags": []
   },
   "outputs": [],
   "source": [
    "# Moving Average (Smoothening Factor 0.1)\n",
    "df7['EMA_0.1'] = df7['Consumption'].ewm(alpha=0.1,adjust=False).mean()\n",
    "df7['EMA_0.3'] = df7['Consumption'].ewm(alpha=0.3,adjust=False).mean()\n",
    "df7[['EMA_0.3','EMA_0.1','Consumption']].plot(figsize=(20,5),xlim=['2021-01-01','2021-01-31']);"
   ]
  },
  {
   "cell_type": "code",
   "execution_count": null,
   "id": "4102ed96",
   "metadata": {
    "execution": {
     "iopub.execute_input": "2024-08-22T11:38:37.969900Z",
     "iopub.status.busy": "2024-08-22T11:38:37.968974Z",
     "iopub.status.idle": "2024-08-22T11:38:38.738287Z",
     "shell.execute_reply": "2024-08-22T11:38:38.737412Z"
    },
    "papermill": {
     "duration": 0.95039,
     "end_time": "2024-08-22T11:38:38.741927",
     "exception": false,
     "start_time": "2024-08-22T11:38:37.791537",
     "status": "completed"
    },
    "tags": []
   },
   "outputs": [],
   "source": [
    "# Span \n",
    "df7['EMA_5Days'] = df7['Consumption'].ewm(span=5,adjust=False).mean()\n",
    "df7['EMA_10Days'] = df7['Consumption'].ewm(span=10,adjust=False).mean()\n",
    "df7[['EMA_5Days','EMA_10Days','Consumption']].plot(figsize=(20,5),xlim=['2021-01-01','2021-01-31']);"
   ]
  },
  {
   "cell_type": "markdown",
   "id": "efaddf17",
   "metadata": {
    "papermill": {
     "duration": 0.178209,
     "end_time": "2024-08-22T11:38:39.099213",
     "exception": false,
     "start_time": "2024-08-22T11:38:38.921004",
     "status": "completed"
    },
    "tags": []
   },
   "source": [
    "# adfuller Test "
   ]
  },
  {
   "cell_type": "code",
   "execution_count": 64,
   "id": "f0d06411",
   "metadata": {
    "execution": {
     "iopub.execute_input": "2024-08-22T11:38:39.462285Z",
     "iopub.status.busy": "2024-08-22T11:38:39.461327Z",
     "iopub.status.idle": "2024-08-22T11:38:39.593314Z",
     "shell.execute_reply": "2024-08-22T11:38:39.592570Z"
    },
    "papermill": {
     "duration": 0.317708,
     "end_time": "2024-08-22T11:38:39.595562",
     "exception": false,
     "start_time": "2024-08-22T11:38:39.277854",
     "status": "completed"
    },
    "tags": []
   },
   "outputs": [],
   "source": [
    "from statsmodels.tsa.stattools import adfuller\n",
    "\n",
    "def adf_test(series):\n",
    "    result=adfuller(series)\n",
    "    print('ADF Statistics: {}'.format(result[0]))\n",
    "    print('p- value: {}'.format(result[1]))\n",
    "    if result[1] <= 0.05:\n",
    "        print(\"strong evidence against the null hypothesis, reject the null hypothesis. Data has no unit root and is stationary\")\n",
    "    else:\n",
    "        print(\"weak evidence against null hypothesis, time series has a unit root, indicating it is non-stationary \")"
   ]
  },
  {
   "cell_type": "code",
   "execution_count": null,
   "id": "bf52e71e",
   "metadata": {
    "execution": {
     "iopub.execute_input": "2024-08-22T11:38:39.956759Z",
     "iopub.status.busy": "2024-08-22T11:38:39.955451Z",
     "iopub.status.idle": "2024-08-22T11:38:46.576606Z",
     "shell.execute_reply": "2024-08-22T11:38:46.575405Z"
    },
    "papermill": {
     "duration": 6.805658,
     "end_time": "2024-08-22T11:38:46.580344",
     "exception": false,
     "start_time": "2024-08-22T11:38:39.774686",
     "status": "completed"
    },
    "tags": []
   },
   "outputs": [],
   "source": [
    "adf_test(df7['Consumption'])"
   ]
  },
  {
   "cell_type": "code",
   "execution_count": null,
   "id": "eb001293",
   "metadata": {
    "execution": {
     "iopub.execute_input": "2024-08-22T11:38:47.013425Z",
     "iopub.status.busy": "2024-08-22T11:38:47.013073Z",
     "iopub.status.idle": "2024-08-22T11:38:47.024988Z",
     "shell.execute_reply": "2024-08-22T11:38:47.024046Z"
    },
    "papermill": {
     "duration": 0.197801,
     "end_time": "2024-08-22T11:38:47.027141",
     "exception": false,
     "start_time": "2024-08-22T11:38:46.829340",
     "status": "completed"
    },
    "tags": []
   },
   "outputs": [],
   "source": [
    "df2.head(2)"
   ]
  },
  {
   "cell_type": "markdown",
   "id": "e3a3adc4",
   "metadata": {
    "papermill": {
     "duration": 0.183281,
     "end_time": "2024-08-22T11:38:47.396573",
     "exception": false,
     "start_time": "2024-08-22T11:38:47.213292",
     "status": "completed"
    },
    "tags": []
   },
   "source": [
    "# Correlation "
   ]
  },
  {
   "cell_type": "code",
   "execution_count": null,
   "id": "6da07d33",
   "metadata": {
    "execution": {
     "iopub.execute_input": "2024-08-22T11:38:47.766369Z",
     "iopub.status.busy": "2024-08-22T11:38:47.765999Z",
     "iopub.status.idle": "2024-08-22T11:38:47.800586Z",
     "shell.execute_reply": "2024-08-22T11:38:47.799554Z"
    },
    "papermill": {
     "duration": 0.221805,
     "end_time": "2024-08-22T11:38:47.802865",
     "exception": false,
     "start_time": "2024-08-22T11:38:47.581060",
     "status": "completed"
    },
    "tags": []
   },
   "outputs": [],
   "source": [
    "# Computing Correlation Matrices\n",
    "from scipy.stats.stats import pearsonr\n",
    "from scipy.stats.stats import spearmanr\n",
    "from scipy.stats.stats import kendalltau\n",
    "\n",
    "corr_p = df2[['Consumption', 'Nuclear','Coal', 'Solar']].corr(method='pearson')\n",
    "print('Pearson correlation matrix')\n",
    "print(corr_p)\n",
    "print(\"\\n\")\n",
    "corr_s = df2[['Consumption', 'Nuclear','Coal', 'Solar']].corr(method='spearman')\n",
    "print('Spearman correlation matrix')\n",
    "print(corr_s)"
   ]
  },
  {
   "cell_type": "code",
   "execution_count": null,
   "id": "d15a3424",
   "metadata": {
    "execution": {
     "iopub.execute_input": "2024-08-22T11:38:48.169165Z",
     "iopub.status.busy": "2024-08-22T11:38:48.168738Z",
     "iopub.status.idle": "2024-08-22T11:38:48.773358Z",
     "shell.execute_reply": "2024-08-22T11:38:48.772471Z"
    },
    "papermill": {
     "duration": 0.790455,
     "end_time": "2024-08-22T11:38:48.776318",
     "exception": false,
     "start_time": "2024-08-22T11:38:47.985863",
     "status": "completed"
    },
    "tags": []
   },
   "outputs": [],
   "source": [
    "import seaborn as sns\n",
    "import matplotlib.pyplot as plt\n",
    "\n",
    "corr_mat = df2.corr(method='pearson')\n",
    "\n",
    "# Add annotation for correlation values\n",
    "sns.heatmap(corr_mat, annot=True, cmap='coolwarm')  # Adjust 'cmap' for color scheme\n",
    "\n",
    "# Additional customizations (optional)\n",
    "plt.title(\"Correlation Heatmap (Pearson)\")\n",
    "plt.xlabel(\"Features\")\n",
    "plt.ylabel(\"Features\")\n",
    "\n",
    "plt.show()"
   ]
  },
  {
   "cell_type": "code",
   "execution_count": null,
   "id": "541359b4",
   "metadata": {
    "execution": {
     "iopub.execute_input": "2024-08-22T11:38:49.149423Z",
     "iopub.status.busy": "2024-08-22T11:38:49.149034Z",
     "iopub.status.idle": "2024-08-22T11:38:50.189814Z",
     "shell.execute_reply": "2024-08-22T11:38:50.188787Z"
    },
    "papermill": {
     "duration": 1.231728,
     "end_time": "2024-08-22T11:38:50.192800",
     "exception": false,
     "start_time": "2024-08-22T11:38:48.961072",
     "status": "completed"
    },
    "tags": []
   },
   "outputs": [],
   "source": [
    "import seaborn as sns\n",
    "import matplotlib.pyplot as plt\n",
    "\n",
    "corr_mat = df2.corr(method='pearson')\n",
    "\n",
    "# Create a clustermap with annotations\n",
    "g = sns.clustermap(corr_mat, annot=True, cmap='coolwarm')\n",
    "\n",
    "# Add title and labels\n",
    "plt.title(\"Correlation Clustermap (Pearson)\")\n",
    "g.ax_heatmap.set_xlabel(\"Features\")\n",
    "g.ax_heatmap.set_ylabel(\"Features\")\n",
    "\n",
    "plt.show()"
   ]
  },
  {
   "cell_type": "markdown",
   "id": "62f52e4f",
   "metadata": {
    "papermill": {
     "duration": 0.184942,
     "end_time": "2024-08-22T11:38:50.564331",
     "exception": false,
     "start_time": "2024-08-22T11:38:50.379389",
     "status": "completed"
    },
    "tags": []
   },
   "source": [
    "# Differencing"
   ]
  },
  {
   "cell_type": "code",
   "execution_count": null,
   "id": "65f6cf0e",
   "metadata": {
    "execution": {
     "iopub.execute_input": "2024-08-22T11:38:50.936974Z",
     "iopub.status.busy": "2024-08-22T11:38:50.936568Z",
     "iopub.status.idle": "2024-08-22T11:38:50.951601Z",
     "shell.execute_reply": "2024-08-22T11:38:50.950719Z"
    },
    "papermill": {
     "duration": 0.204195,
     "end_time": "2024-08-22T11:38:50.953650",
     "exception": false,
     "start_time": "2024-08-22T11:38:50.749455",
     "status": "completed"
    },
    "tags": []
   },
   "outputs": [],
   "source": [
    "monthly_data = df7.resample('M')['Consumption'].agg('mean')\n",
    "monthly_data = monthly_data.reset_index()\n",
    "df8 = monthly_data.set_index('DateTime')\n",
    "df8.head()"
   ]
  },
  {
   "cell_type": "code",
   "execution_count": null,
   "id": "0c0333f6",
   "metadata": {
    "execution": {
     "iopub.execute_input": "2024-08-22T11:38:51.329531Z",
     "iopub.status.busy": "2024-08-22T11:38:51.328974Z",
     "iopub.status.idle": "2024-08-22T11:38:51.341012Z",
     "shell.execute_reply": "2024-08-22T11:38:51.340081Z"
    },
    "papermill": {
     "duration": 0.203743,
     "end_time": "2024-08-22T11:38:51.343080",
     "exception": false,
     "start_time": "2024-08-22T11:38:51.139337",
     "status": "completed"
    },
    "tags": []
   },
   "outputs": [],
   "source": [
    "## Use Techniques Differencing\n",
    "df8['Consumption First Difference']= df8['Consumption'] - df8['Consumption'].shift(1)\n",
    "df8.head()"
   ]
  },
  {
   "cell_type": "code",
   "execution_count": null,
   "id": "53ea2f00",
   "metadata": {
    "execution": {
     "iopub.execute_input": "2024-08-22T11:38:51.716513Z",
     "iopub.status.busy": "2024-08-22T11:38:51.715709Z",
     "iopub.status.idle": "2024-08-22T11:38:51.728489Z",
     "shell.execute_reply": "2024-08-22T11:38:51.727428Z"
    },
    "papermill": {
     "duration": 0.20126,
     "end_time": "2024-08-22T11:38:51.730721",
     "exception": false,
     "start_time": "2024-08-22T11:38:51.529461",
     "status": "completed"
    },
    "tags": []
   },
   "outputs": [],
   "source": [
    "adf_test(df8['Consumption First Difference'].dropna())"
   ]
  },
  {
   "cell_type": "code",
   "execution_count": null,
   "id": "d6b1239a",
   "metadata": {
    "execution": {
     "iopub.execute_input": "2024-08-22T11:38:52.107951Z",
     "iopub.status.busy": "2024-08-22T11:38:52.107543Z",
     "iopub.status.idle": "2024-08-22T11:38:52.119712Z",
     "shell.execute_reply": "2024-08-22T11:38:52.118901Z"
    },
    "papermill": {
     "duration": 0.2039,
     "end_time": "2024-08-22T11:38:52.121616",
     "exception": false,
     "start_time": "2024-08-22T11:38:51.917716",
     "status": "completed"
    },
    "tags": []
   },
   "outputs": [],
   "source": [
    "### 12 months shift\n",
    "## Use Techniques Differencing\n",
    "df8['Consumption 12 Difference']=df8['Consumption']-df8['Consumption'].shift(12)\n",
    "df8.head()"
   ]
  },
  {
   "cell_type": "code",
   "execution_count": null,
   "id": "527704a3",
   "metadata": {
    "execution": {
     "iopub.execute_input": "2024-08-22T11:38:52.500367Z",
     "iopub.status.busy": "2024-08-22T11:38:52.500016Z",
     "iopub.status.idle": "2024-08-22T11:38:52.512968Z",
     "shell.execute_reply": "2024-08-22T11:38:52.512005Z"
    },
    "papermill": {
     "duration": 0.205373,
     "end_time": "2024-08-22T11:38:52.515034",
     "exception": false,
     "start_time": "2024-08-22T11:38:52.309661",
     "status": "completed"
    },
    "tags": []
   },
   "outputs": [],
   "source": [
    "adf_test(df8['Consumption 12 Difference'].dropna()) "
   ]
  },
  {
   "cell_type": "code",
   "execution_count": null,
   "id": "785d96c8",
   "metadata": {
    "execution": {
     "iopub.execute_input": "2024-08-22T11:38:52.899425Z",
     "iopub.status.busy": "2024-08-22T11:38:52.898485Z",
     "iopub.status.idle": "2024-08-22T11:38:53.377571Z",
     "shell.execute_reply": "2024-08-22T11:38:53.376691Z"
    },
    "papermill": {
     "duration": 0.670591,
     "end_time": "2024-08-22T11:38:53.379666",
     "exception": false,
     "start_time": "2024-08-22T11:38:52.709075",
     "status": "completed"
    },
    "tags": []
   },
   "outputs": [],
   "source": [
    "from statsmodels.graphics.tsaplots import plot_acf,plot_pacf\n",
    "acf = plot_acf(df8['Consumption 12 Difference'].dropna())"
   ]
  },
  {
   "cell_type": "code",
   "execution_count": null,
   "id": "6769df33",
   "metadata": {
    "execution": {
     "iopub.execute_input": "2024-08-22T11:38:53.758423Z",
     "iopub.status.busy": "2024-08-22T11:38:53.758075Z",
     "iopub.status.idle": "2024-08-22T11:38:54.707245Z",
     "shell.execute_reply": "2024-08-22T11:38:54.706273Z"
    },
    "papermill": {
     "duration": 1.139712,
     "end_time": "2024-08-22T11:38:54.709778",
     "exception": false,
     "start_time": "2024-08-22T11:38:53.570066",
     "status": "completed"
    },
    "tags": []
   },
   "outputs": [],
   "source": [
    "acf12 = plot_acf(df8['Consumption 12 Difference'].dropna())\n",
    "pacf12 = plot_pacf(df8['Consumption 12 Difference'].dropna())"
   ]
  },
  {
   "cell_type": "code",
   "execution_count": null,
   "id": "394335f9",
   "metadata": {
    "execution": {
     "iopub.execute_input": "2024-08-22T11:38:55.103740Z",
     "iopub.status.busy": "2024-08-22T11:38:55.102521Z",
     "iopub.status.idle": "2024-08-22T11:38:55.587561Z",
     "shell.execute_reply": "2024-08-22T11:38:55.586685Z"
    },
    "papermill": {
     "duration": 0.692046,
     "end_time": "2024-08-22T11:38:55.589561",
     "exception": false,
     "start_time": "2024-08-22T11:38:54.897515",
     "status": "completed"
    },
    "tags": []
   },
   "outputs": [],
   "source": [
    "## Use Techniques Differencing\n",
    "df8['Consumption 2 Difference']=df8['Consumption']-df8['Consumption'].shift(2)\n",
    "display(df8.head(3))\n",
    "\n",
    "result = plot_pacf(df8[\"Consumption 2 Difference\"].dropna())"
   ]
  },
  {
   "cell_type": "code",
   "execution_count": null,
   "id": "22bdb1bf",
   "metadata": {
    "execution": {
     "iopub.execute_input": "2024-08-22T11:38:55.968497Z",
     "iopub.status.busy": "2024-08-22T11:38:55.968127Z",
     "iopub.status.idle": "2024-08-22T11:38:55.977941Z",
     "shell.execute_reply": "2024-08-22T11:38:55.977040Z"
    },
    "papermill": {
     "duration": 0.202006,
     "end_time": "2024-08-22T11:38:55.979962",
     "exception": false,
     "start_time": "2024-08-22T11:38:55.777956",
     "status": "completed"
    },
    "tags": []
   },
   "outputs": [],
   "source": [
    "df9 = df8[['Consumption']]\n",
    "df9.head()"
   ]
  },
  {
   "cell_type": "code",
   "execution_count": 79,
   "id": "4c1a111f",
   "metadata": {
    "execution": {
     "iopub.execute_input": "2024-08-22T11:38:56.383097Z",
     "iopub.status.busy": "2024-08-22T11:38:56.382164Z",
     "iopub.status.idle": "2024-08-22T11:38:56.388242Z",
     "shell.execute_reply": "2024-08-22T11:38:56.387328Z"
    },
    "papermill": {
     "duration": 0.20996,
     "end_time": "2024-08-22T11:38:56.390258",
     "exception": false,
     "start_time": "2024-08-22T11:38:56.180298",
     "status": "completed"
    },
    "tags": []
   },
   "outputs": [],
   "source": [
    "from datetime import datetime,timedelta\n",
    "train_dataset_end=datetime(2023,6,1)\n",
    "test_dataset_end=datetime(2024,4,1)"
   ]
  },
  {
   "cell_type": "code",
   "execution_count": 80,
   "id": "0bca1849",
   "metadata": {
    "execution": {
     "iopub.execute_input": "2024-08-22T11:38:56.781587Z",
     "iopub.status.busy": "2024-08-22T11:38:56.780797Z",
     "iopub.status.idle": "2024-08-22T11:38:56.789086Z",
     "shell.execute_reply": "2024-08-22T11:38:56.788220Z"
    },
    "papermill": {
     "duration": 0.198956,
     "end_time": "2024-08-22T11:38:56.790962",
     "exception": false,
     "start_time": "2024-08-22T11:38:56.592006",
     "status": "completed"
    },
    "tags": []
   },
   "outputs": [],
   "source": [
    "train_data=df9[:train_dataset_end]\n",
    "test_data=df9[train_dataset_end+timedelta(days=1):test_dataset_end]\n",
    "##prediction\n",
    "pred_start_date=test_data.index[0]\n",
    "pred_end_date=test_data.index[-1]"
   ]
  },
  {
   "cell_type": "code",
   "execution_count": null,
   "id": "c177c4b1",
   "metadata": {
    "execution": {
     "iopub.execute_input": "2024-08-22T11:38:57.178978Z",
     "iopub.status.busy": "2024-08-22T11:38:57.178564Z",
     "iopub.status.idle": "2024-08-22T11:38:57.188845Z",
     "shell.execute_reply": "2024-08-22T11:38:57.187835Z"
    },
    "papermill": {
     "duration": 0.210377,
     "end_time": "2024-08-22T11:38:57.190921",
     "exception": false,
     "start_time": "2024-08-22T11:38:56.980544",
     "status": "completed"
    },
    "tags": []
   },
   "outputs": [],
   "source": [
    "train_data.head()"
   ]
  },
  {
   "cell_type": "code",
   "execution_count": null,
   "id": "9af6acdd",
   "metadata": {
    "execution": {
     "iopub.execute_input": "2024-08-22T11:38:57.580219Z",
     "iopub.status.busy": "2024-08-22T11:38:57.579868Z",
     "iopub.status.idle": "2024-08-22T11:38:57.588842Z",
     "shell.execute_reply": "2024-08-22T11:38:57.587819Z"
    },
    "papermill": {
     "duration": 0.204016,
     "end_time": "2024-08-22T11:38:57.590746",
     "exception": false,
     "start_time": "2024-08-22T11:38:57.386730",
     "status": "completed"
    },
    "tags": []
   },
   "outputs": [],
   "source": [
    "test_data.head()"
   ]
  },
  {
   "cell_type": "code",
   "execution_count": 83,
   "id": "e81e444e",
   "metadata": {
    "execution": {
     "iopub.execute_input": "2024-08-22T11:38:57.967923Z",
     "iopub.status.busy": "2024-08-22T11:38:57.967375Z",
     "iopub.status.idle": "2024-08-22T11:38:58.225819Z",
     "shell.execute_reply": "2024-08-22T11:38:58.224854Z"
    },
    "papermill": {
     "duration": 0.45017,
     "end_time": "2024-08-22T11:38:58.228308",
     "exception": false,
     "start_time": "2024-08-22T11:38:57.778138",
     "status": "completed"
    },
    "tags": []
   },
   "outputs": [],
   "source": [
    "import warnings\n",
    "warnings.filterwarnings(\"ignore\")\n",
    "\n",
    "from statsmodels.tsa.arima.model import ARIMA\n",
    "\n",
    "model_ARIMA=ARIMA(train_data['Consumption'],order=(10,2,0))"
   ]
  },
  {
   "cell_type": "code",
   "execution_count": null,
   "id": "d0491195",
   "metadata": {
    "execution": {
     "iopub.execute_input": "2024-08-22T11:38:58.612734Z",
     "iopub.status.busy": "2024-08-22T11:38:58.611255Z",
     "iopub.status.idle": "2024-08-22T11:38:59.886269Z",
     "shell.execute_reply": "2024-08-22T11:38:59.885262Z"
    },
    "papermill": {
     "duration": 1.472242,
     "end_time": "2024-08-22T11:38:59.889287",
     "exception": false,
     "start_time": "2024-08-22T11:38:58.417045",
     "status": "completed"
    },
    "tags": []
   },
   "outputs": [],
   "source": [
    "model_Arima_fit=model_ARIMA.fit()\n",
    "model_Arima_fit.summary()"
   ]
  },
  {
   "cell_type": "code",
   "execution_count": null,
   "id": "6677cf71",
   "metadata": {
    "execution": {
     "iopub.execute_input": "2024-08-22T11:39:00.286994Z",
     "iopub.status.busy": "2024-08-22T11:39:00.285757Z",
     "iopub.status.idle": "2024-08-22T11:39:00.293491Z",
     "shell.execute_reply": "2024-08-22T11:39:00.292338Z"
    },
    "papermill": {
     "duration": 0.203735,
     "end_time": "2024-08-22T11:39:00.295788",
     "exception": false,
     "start_time": "2024-08-22T11:39:00.092053",
     "status": "completed"
    },
    "tags": []
   },
   "outputs": [],
   "source": [
    "##prediction\n",
    "pred_start_date=test_data.index[0]\n",
    "pred_end_date=test_data.index[-1]\n",
    "print(pred_start_date)\n",
    "print(pred_end_date)"
   ]
  },
  {
   "cell_type": "code",
   "execution_count": 86,
   "id": "4dc7102e",
   "metadata": {
    "execution": {
     "iopub.execute_input": "2024-08-22T11:39:00.695523Z",
     "iopub.status.busy": "2024-08-22T11:39:00.695178Z",
     "iopub.status.idle": "2024-08-22T11:39:00.705904Z",
     "shell.execute_reply": "2024-08-22T11:39:00.705029Z"
    },
    "papermill": {
     "duration": 0.20348,
     "end_time": "2024-08-22T11:39:00.707991",
     "exception": false,
     "start_time": "2024-08-22T11:39:00.504511",
     "status": "completed"
    },
    "tags": []
   },
   "outputs": [],
   "source": [
    "pred=model_Arima_fit.predict(start=pred_start_date,end=pred_end_date)\n",
    "residuals=test_data['Consumption']-pred"
   ]
  },
  {
   "cell_type": "code",
   "execution_count": null,
   "id": "7ade545d",
   "metadata": {
    "execution": {
     "iopub.execute_input": "2024-08-22T11:39:01.087624Z",
     "iopub.status.busy": "2024-08-22T11:39:01.087279Z",
     "iopub.status.idle": "2024-08-22T11:39:01.097159Z",
     "shell.execute_reply": "2024-08-22T11:39:01.096315Z"
    },
    "papermill": {
     "duration": 0.202921,
     "end_time": "2024-08-22T11:39:01.099124",
     "exception": false,
     "start_time": "2024-08-22T11:39:00.896203",
     "status": "completed"
    },
    "tags": []
   },
   "outputs": [],
   "source": [
    "pred.to_frame()"
   ]
  },
  {
   "cell_type": "code",
   "execution_count": null,
   "id": "4a8517b7",
   "metadata": {
    "execution": {
     "iopub.execute_input": "2024-08-22T11:39:01.482482Z",
     "iopub.status.busy": "2024-08-22T11:39:01.482132Z",
     "iopub.status.idle": "2024-08-22T11:39:01.490969Z",
     "shell.execute_reply": "2024-08-22T11:39:01.490106Z"
    },
    "papermill": {
     "duration": 0.203645,
     "end_time": "2024-08-22T11:39:01.493840",
     "exception": false,
     "start_time": "2024-08-22T11:39:01.290195",
     "status": "completed"
    },
    "tags": []
   },
   "outputs": [],
   "source": [
    "residuals.to_frame()"
   ]
  },
  {
   "cell_type": "code",
   "execution_count": null,
   "id": "d6161f68",
   "metadata": {
    "execution": {
     "iopub.execute_input": "2024-08-22T11:39:01.887655Z",
     "iopub.status.busy": "2024-08-22T11:39:01.887298Z",
     "iopub.status.idle": "2024-08-22T11:39:02.302532Z",
     "shell.execute_reply": "2024-08-22T11:39:02.301626Z"
    },
    "papermill": {
     "duration": 0.613826,
     "end_time": "2024-08-22T11:39:02.304529",
     "exception": false,
     "start_time": "2024-08-22T11:39:01.690703",
     "status": "completed"
    },
    "tags": []
   },
   "outputs": [],
   "source": [
    "model_Arima_fit.resid.plot(kind='kde',figsize=(20,5));"
   ]
  },
  {
   "cell_type": "code",
   "execution_count": 90,
   "id": "25e29f5e",
   "metadata": {
    "execution": {
     "iopub.execute_input": "2024-08-22T11:39:02.691720Z",
     "iopub.status.busy": "2024-08-22T11:39:02.690995Z",
     "iopub.status.idle": "2024-08-22T11:39:02.696314Z",
     "shell.execute_reply": "2024-08-22T11:39:02.695383Z"
    },
    "papermill": {
     "duration": 0.203389,
     "end_time": "2024-08-22T11:39:02.698478",
     "exception": false,
     "start_time": "2024-08-22T11:39:02.495089",
     "status": "completed"
    },
    "tags": []
   },
   "outputs": [],
   "source": [
    "test_data['Predicted_ARIMA']=pred"
   ]
  },
  {
   "cell_type": "code",
   "execution_count": null,
   "id": "070474d0",
   "metadata": {
    "execution": {
     "iopub.execute_input": "2024-08-22T11:39:03.082452Z",
     "iopub.status.busy": "2024-08-22T11:39:03.082105Z",
     "iopub.status.idle": "2024-08-22T11:39:03.557172Z",
     "shell.execute_reply": "2024-08-22T11:39:03.556263Z"
    },
    "papermill": {
     "duration": 0.66995,
     "end_time": "2024-08-22T11:39:03.559279",
     "exception": false,
     "start_time": "2024-08-22T11:39:02.889329",
     "status": "completed"
    },
    "tags": []
   },
   "outputs": [],
   "source": [
    "test_data[['Consumption','Predicted_ARIMA']].plot(figsize=(20,5));"
   ]
  },
  {
   "cell_type": "code",
   "execution_count": null,
   "id": "9b267f56",
   "metadata": {
    "execution": {
     "iopub.execute_input": "2024-08-22T11:39:03.946180Z",
     "iopub.status.busy": "2024-08-22T11:39:03.945828Z",
     "iopub.status.idle": "2024-08-22T11:39:04.927448Z",
     "shell.execute_reply": "2024-08-22T11:39:04.925918Z"
    },
    "papermill": {
     "duration": 1.181327,
     "end_time": "2024-08-22T11:39:04.932524",
     "exception": false,
     "start_time": "2024-08-22T11:39:03.751197",
     "status": "completed"
    },
    "tags": []
   },
   "outputs": [],
   "source": [
    "## create a SARIMA model\n",
    "from statsmodels.tsa.statespace.sarimax import SARIMAX\n",
    "model_SARIMA=SARIMAX(train_data['Consumption'],order=(3,0,5),seasonal_order=(0,1,0,12))\n",
    "model_SARIMA_fit=model_SARIMA.fit()\n",
    "model_SARIMA_fit.summary()"
   ]
  },
  {
   "cell_type": "code",
   "execution_count": null,
   "id": "eb6e94af",
   "metadata": {
    "execution": {
     "iopub.execute_input": "2024-08-22T11:39:05.351597Z",
     "iopub.status.busy": "2024-08-22T11:39:05.351243Z",
     "iopub.status.idle": "2024-08-22T11:39:05.356273Z",
     "shell.execute_reply": "2024-08-22T11:39:05.355412Z"
    },
    "papermill": {
     "duration": 0.203471,
     "end_time": "2024-08-22T11:39:05.358704",
     "exception": false,
     "start_time": "2024-08-22T11:39:05.155233",
     "status": "completed"
    },
    "tags": []
   },
   "outputs": [],
   "source": [
    "##prediction\n",
    "pred_start_date=test_data.index[0]\n",
    "pred_end_date=test_data.index[-1]\n",
    "print(pred_start_date)\n",
    "print(pred_end_date)"
   ]
  },
  {
   "cell_type": "code",
   "execution_count": 94,
   "id": "a5a30c98",
   "metadata": {
    "execution": {
     "iopub.execute_input": "2024-08-22T11:39:05.746218Z",
     "iopub.status.busy": "2024-08-22T11:39:05.745897Z",
     "iopub.status.idle": "2024-08-22T11:39:05.761392Z",
     "shell.execute_reply": "2024-08-22T11:39:05.760520Z"
    },
    "papermill": {
     "duration": 0.211004,
     "end_time": "2024-08-22T11:39:05.763397",
     "exception": false,
     "start_time": "2024-08-22T11:39:05.552393",
     "status": "completed"
    },
    "tags": []
   },
   "outputs": [],
   "source": [
    "pred_Sarima=model_SARIMA_fit.predict(start=datetime(2023,6,1),end=datetime(2024,4,1))\n",
    "residuals=test_data['Consumption']-pred_Sarima"
   ]
  },
  {
   "cell_type": "code",
   "execution_count": null,
   "id": "71925780",
   "metadata": {
    "execution": {
     "iopub.execute_input": "2024-08-22T11:39:06.147221Z",
     "iopub.status.busy": "2024-08-22T11:39:06.146504Z",
     "iopub.status.idle": "2024-08-22T11:39:06.541654Z",
     "shell.execute_reply": "2024-08-22T11:39:06.540650Z"
    },
    "papermill": {
     "duration": 0.589735,
     "end_time": "2024-08-22T11:39:06.543887",
     "exception": false,
     "start_time": "2024-08-22T11:39:05.954152",
     "status": "completed"
    },
    "tags": []
   },
   "outputs": [],
   "source": [
    "model_SARIMA_fit.resid.plot(figsize=(20,5));"
   ]
  },
  {
   "cell_type": "code",
   "execution_count": null,
   "id": "b9c5669a",
   "metadata": {
    "execution": {
     "iopub.execute_input": "2024-08-22T11:39:06.932038Z",
     "iopub.status.busy": "2024-08-22T11:39:06.931683Z",
     "iopub.status.idle": "2024-08-22T11:39:07.342091Z",
     "shell.execute_reply": "2024-08-22T11:39:07.341110Z"
    },
    "papermill": {
     "duration": 0.605775,
     "end_time": "2024-08-22T11:39:07.344746",
     "exception": false,
     "start_time": "2024-08-22T11:39:06.738971",
     "status": "completed"
    },
    "tags": []
   },
   "outputs": [],
   "source": [
    "model_SARIMA_fit.resid.plot(kind='kde',figsize=(20,5));"
   ]
  },
  {
   "cell_type": "code",
   "execution_count": 97,
   "id": "6abbd49d",
   "metadata": {
    "execution": {
     "iopub.execute_input": "2024-08-22T11:39:07.748451Z",
     "iopub.status.busy": "2024-08-22T11:39:07.748108Z",
     "iopub.status.idle": "2024-08-22T11:39:07.753787Z",
     "shell.execute_reply": "2024-08-22T11:39:07.752910Z"
    },
    "papermill": {
     "duration": 0.210292,
     "end_time": "2024-08-22T11:39:07.755795",
     "exception": false,
     "start_time": "2024-08-22T11:39:07.545503",
     "status": "completed"
    },
    "tags": []
   },
   "outputs": [],
   "source": [
    "test_data['Predicted_SARIMA']=pred_Sarima"
   ]
  },
  {
   "cell_type": "code",
   "execution_count": null,
   "id": "965beb59",
   "metadata": {
    "execution": {
     "iopub.execute_input": "2024-08-22T11:39:08.154664Z",
     "iopub.status.busy": "2024-08-22T11:39:08.154300Z",
     "iopub.status.idle": "2024-08-22T11:39:08.656576Z",
     "shell.execute_reply": "2024-08-22T11:39:08.655707Z"
    },
    "papermill": {
     "duration": 0.705371,
     "end_time": "2024-08-22T11:39:08.659524",
     "exception": false,
     "start_time": "2024-08-22T11:39:07.954153",
     "status": "completed"
    },
    "tags": []
   },
   "outputs": [],
   "source": [
    "test_data[['Consumption','Predicted_SARIMA','Predicted_ARIMA']].plot(figsize=(20,5));"
   ]
  },
  {
   "cell_type": "markdown",
   "id": "4323fa34",
   "metadata": {
    "papermill": {
     "duration": 0.19369,
     "end_time": "2024-08-22T11:39:09.048054",
     "exception": false,
     "start_time": "2024-08-22T11:39:08.854364",
     "status": "completed"
    },
    "tags": []
   },
   "source": [
    "## Time Series Part : 1\n",
    "[1. Energy Price Prediction with LSTM-Time Series ](https://www.kaggle.com/code/pythonafroz/energy-price-prediction-with-lstm-time-series)\n",
    "\n",
    "[2. Exploratory Data Analysis (EDA) for Time Series](https://www.kaggle.com/code/pythonafroz/exploratory-data-analysis-eda-for-time-series)\n",
    "\n",
    "[3. Fb-Prophet with Multiple📊 Regressors📈](https://www.kaggle.com/code/pythonafroz/fb-prophet-with-multiple-regressors)\n",
    "\n",
    "[4. PV-forecast with Neural-Prophet](https://www.kaggle.com/code/pythonafroz/pv-forecast-with-neural-prophet)\n",
    "\n",
    "[5. Wind and Solar Power Generation Time Series](https://www.kaggle.com/code/pythonafroz/wind-and-solar-power-generation-time-series)\n",
    "\n",
    "[6. Europe Power Generation EDA & Solar TS-Analysis](https://www.kaggle.com/code/pythonafroz/europe-power-generation-eda-solar-ts-analysis)\n",
    "\n",
    "[7. Fb-Prophet Step by Step](https://www.kaggle.com/code/pythonafroz/fb-prophet-step-by-step)\n",
    "\n",
    "[8. Time Series Neuro-Prophet Step by Step](https://www.kaggle.com/code/pythonafroz/time-series-neuro-prophet-step-by-step)\n",
    "\n",
    "[9. Time-series-analysis | fb-prophet-explained](https://www.kaggle.com/code/pythonafroz/time-series-analysis-fb-prophet-explained)\n",
    "\n",
    "[10. Fb-Prophet High Accuracy with irregular data gaps](https://www.kaggle.com/code/pythonafroz/fb-prophet-high-accuracy-with-irregular-data-gaps)\n",
    "\n",
    "[11. Day ahead electricity prices forecast with TS](https://www.kaggle.com/code/pythonafroz/day-ahead-electricity-prices-forecast-with-ts)\n",
    "\n",
    "[12. Indian Power Consumption analysis with fb-prophet](https://www.kaggle.com/code/pythonafroz/indian-power-consumption-analysis-with-fb-prophet/notebook)\n",
    "\n",
    "## Time Series Part : 2\n",
    "\n",
    "[13. Energy Price Prediction with ARIMA & SARIMA](https://www.kaggle.com/code/pythonafroz/energy-price-prediction-with-arima-sarima)\n",
    "\n",
    "[14. Energy Price Prediction with RNN & LSTM](https://www.kaggle.com/code/pythonafroz/energy-price-prediction-with-rnn-lstm)\n",
    "\n",
    "[15. Energy Price Prediction with XGBoost-Time Series](https://www.kaggle.com/code/pythonafroz/energy-price-prediction-with-xgboost-time-series)\n",
    "\n",
    "[16. Neural-Prophet Unlocking Tomorrow's energy 💰Price](https://www.kaggle.com/code/pythonafroz/neural-prophet-unlocking-tomorrow-s-energy-price)\n",
    "\n",
    "[4. Energy Price Prediction with LSTM-Time Series](https://www.kaggle.com/code/pythonafroz/energy-price-prediction-with-lstm-time-series)\n",
    "\n",
    "[17. Energy Price Prediction with ARIMA](https://www.kaggle.com/code/pythonafroz/energy-price-prediction-with-arima)\n",
    "\n",
    "[6. Anomaly Detection in energy cost with fb-Prophet](https://www.kaggle.com/code/pythonafroz/anomaly-detection-in-energy-cost-with-fb-prophet)\n",
    "\n",
    "[18. Energy Market's Day Ahead Prices prediction (EDA)](https://www.kaggle.com/code/pythonafroz/energy-market-s-day-ahead-prices-prediction-eda)\n",
    "\n",
    "[19. Day ahead electricity prices forecast with Lasso, LGBMRegressor & CatBoostRegressor](https://www.kaggle.com/code/pythonafroz/day-ahead-electricity-prices-forecast-with-ts)"
   ]
  }
 ],
 "metadata": {
  "kaggle": {
   "accelerator": "nvidiaTeslaT4",
   "dataSources": [
    {
     "datasetId": 4950321,
     "sourceId": 8335519,
     "sourceType": "datasetVersion"
    }
   ],
   "dockerImageVersionId": 30698,
   "isGpuEnabled": true,
   "isInternetEnabled": true,
   "language": "python",
   "sourceType": "notebook"
  },
  "kernelspec": {
   "display_name": "Python 3",
   "language": "python",
   "name": "python3"
  },
  "language_info": {
   "codemirror_mode": {
    "name": "ipython",
    "version": 3
   },
   "file_extension": ".py",
   "mimetype": "text/x-python",
   "name": "python",
   "nbconvert_exporter": "python",
   "pygments_lexer": "ipython3",
   "version": "3.10.12"
  },
  "papermill": {
   "default_parameters": {},
   "duration": 174.547882,
   "end_time": "2024-08-22T11:39:11.763073",
   "environment_variables": {},
   "exception": null,
   "input_path": "__notebook__.ipynb",
   "output_path": "__notebook__.ipynb",
   "parameters": {},
   "start_time": "2024-08-22T11:36:17.215191",
   "version": "2.5.0"
  }
 },
 "nbformat": 4,
 "nbformat_minor": 5
}
